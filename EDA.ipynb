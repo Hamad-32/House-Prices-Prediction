{
 "cells": [
  {
   "cell_type": "code",
   "execution_count": 184,
   "id": "e69c4ba1-85f3-4a02-ae37-c64347a01803",
   "metadata": {},
   "outputs": [],
   "source": [
    "#Import all relevant libraries\n",
    "import numpy as np\n",
    "import pandas as pd\n",
    "import matplotlib.pyplot as plt\n",
    "import seaborn as sns\n",
    "from scipy.stats import zscore\n",
    "\n",
    "from sklearn.model_selection import train_test_split\n",
    "from sklearn.metrics import mean_squared_error, r2_score, mean_absolute_error\n",
    "from sklearn.preprocessing import StandardScaler\n",
    "from sklearn.linear_model import LinearRegression\n",
    "from sklearn import metrics\n",
    "\n",
    " \n",
    "## This statement allows the visuals to render within your Jupyter Notebook.\n",
    "%matplotlib inline"
   ]
  },
  {
   "cell_type": "markdown",
   "id": "e395e8bf-b530-4720-8d0f-26811e927d6e",
   "metadata": {},
   "source": [
    "## Loading the data\n",
    "We can now load the dataset into pandas using the read_csv() function. This converts the CSV file into a Pandas dataframe."
   ]
  },
  {
   "cell_type": "code",
   "execution_count": 264,
   "id": "cf4030b0-aa7f-4bd7-8e9c-c1b7f4d202d0",
   "metadata": {},
   "outputs": [],
   "source": [
    "#Read in the csv file and convert to a Pandas dataframe\n",
    "houses_train = pd.read_csv(\"data/train.csv\")\n",
    "#houses_test = pd.read_csv(\"data/test.csv\")\n",
    "#sale_price = pd.read_csv(\"data/sample_submission.csv\")"
   ]
  },
  {
   "cell_type": "code",
   "execution_count": 186,
   "metadata": {},
   "outputs": [],
   "source": [
    "# Merge the test dataset with the target \n",
    "#houses_test = houses_test.merge(sale_price,on='Id')"
   ]
  },
  {
   "cell_type": "markdown",
   "id": "ca5ed983-0f72-43eb-8168-6fafd48c562e",
   "metadata": {},
   "source": [
    "### Viewing the dataframe\n",
    "We can get a quick sense of the size of our dataset by using the shape method. This returns a tuple with the number of rows and columns in the dataset."
   ]
  },
  {
   "cell_type": "code",
   "execution_count": 187,
   "metadata": {},
   "outputs": [
    {
     "data": {
      "text/plain": [
       "(1460, 81)"
      ]
     },
     "execution_count": 187,
     "metadata": {},
     "output_type": "execute_result"
    }
   ],
   "source": [
    "houses_train.shape"
   ]
  },
  {
   "cell_type": "code",
   "execution_count": 188,
   "id": "bfde0b69-613c-4dd1-8ebf-e4d2e570e653",
   "metadata": {},
   "outputs": [
    {
     "data": {
      "text/html": [
       "<div>\n",
       "<style scoped>\n",
       "    .dataframe tbody tr th:only-of-type {\n",
       "        vertical-align: middle;\n",
       "    }\n",
       "\n",
       "    .dataframe tbody tr th {\n",
       "        vertical-align: top;\n",
       "    }\n",
       "\n",
       "    .dataframe thead th {\n",
       "        text-align: right;\n",
       "    }\n",
       "</style>\n",
       "<table border=\"1\" class=\"dataframe\">\n",
       "  <thead>\n",
       "    <tr style=\"text-align: right;\">\n",
       "      <th></th>\n",
       "      <th>Id</th>\n",
       "      <th>MSSubClass</th>\n",
       "      <th>MSZoning</th>\n",
       "      <th>LotFrontage</th>\n",
       "      <th>LotArea</th>\n",
       "      <th>Street</th>\n",
       "      <th>Alley</th>\n",
       "      <th>LotShape</th>\n",
       "      <th>LandContour</th>\n",
       "      <th>Utilities</th>\n",
       "      <th>...</th>\n",
       "      <th>PoolArea</th>\n",
       "      <th>PoolQC</th>\n",
       "      <th>Fence</th>\n",
       "      <th>MiscFeature</th>\n",
       "      <th>MiscVal</th>\n",
       "      <th>MoSold</th>\n",
       "      <th>YrSold</th>\n",
       "      <th>SaleType</th>\n",
       "      <th>SaleCondition</th>\n",
       "      <th>SalePrice</th>\n",
       "    </tr>\n",
       "  </thead>\n",
       "  <tbody>\n",
       "    <tr>\n",
       "      <th>0</th>\n",
       "      <td>1</td>\n",
       "      <td>60</td>\n",
       "      <td>RL</td>\n",
       "      <td>65.0</td>\n",
       "      <td>8450</td>\n",
       "      <td>Pave</td>\n",
       "      <td>NaN</td>\n",
       "      <td>Reg</td>\n",
       "      <td>Lvl</td>\n",
       "      <td>AllPub</td>\n",
       "      <td>...</td>\n",
       "      <td>0</td>\n",
       "      <td>NaN</td>\n",
       "      <td>NaN</td>\n",
       "      <td>NaN</td>\n",
       "      <td>0</td>\n",
       "      <td>2</td>\n",
       "      <td>2008</td>\n",
       "      <td>WD</td>\n",
       "      <td>Normal</td>\n",
       "      <td>208500</td>\n",
       "    </tr>\n",
       "    <tr>\n",
       "      <th>1</th>\n",
       "      <td>2</td>\n",
       "      <td>20</td>\n",
       "      <td>RL</td>\n",
       "      <td>80.0</td>\n",
       "      <td>9600</td>\n",
       "      <td>Pave</td>\n",
       "      <td>NaN</td>\n",
       "      <td>Reg</td>\n",
       "      <td>Lvl</td>\n",
       "      <td>AllPub</td>\n",
       "      <td>...</td>\n",
       "      <td>0</td>\n",
       "      <td>NaN</td>\n",
       "      <td>NaN</td>\n",
       "      <td>NaN</td>\n",
       "      <td>0</td>\n",
       "      <td>5</td>\n",
       "      <td>2007</td>\n",
       "      <td>WD</td>\n",
       "      <td>Normal</td>\n",
       "      <td>181500</td>\n",
       "    </tr>\n",
       "    <tr>\n",
       "      <th>2</th>\n",
       "      <td>3</td>\n",
       "      <td>60</td>\n",
       "      <td>RL</td>\n",
       "      <td>68.0</td>\n",
       "      <td>11250</td>\n",
       "      <td>Pave</td>\n",
       "      <td>NaN</td>\n",
       "      <td>IR1</td>\n",
       "      <td>Lvl</td>\n",
       "      <td>AllPub</td>\n",
       "      <td>...</td>\n",
       "      <td>0</td>\n",
       "      <td>NaN</td>\n",
       "      <td>NaN</td>\n",
       "      <td>NaN</td>\n",
       "      <td>0</td>\n",
       "      <td>9</td>\n",
       "      <td>2008</td>\n",
       "      <td>WD</td>\n",
       "      <td>Normal</td>\n",
       "      <td>223500</td>\n",
       "    </tr>\n",
       "    <tr>\n",
       "      <th>3</th>\n",
       "      <td>4</td>\n",
       "      <td>70</td>\n",
       "      <td>RL</td>\n",
       "      <td>60.0</td>\n",
       "      <td>9550</td>\n",
       "      <td>Pave</td>\n",
       "      <td>NaN</td>\n",
       "      <td>IR1</td>\n",
       "      <td>Lvl</td>\n",
       "      <td>AllPub</td>\n",
       "      <td>...</td>\n",
       "      <td>0</td>\n",
       "      <td>NaN</td>\n",
       "      <td>NaN</td>\n",
       "      <td>NaN</td>\n",
       "      <td>0</td>\n",
       "      <td>2</td>\n",
       "      <td>2006</td>\n",
       "      <td>WD</td>\n",
       "      <td>Abnorml</td>\n",
       "      <td>140000</td>\n",
       "    </tr>\n",
       "    <tr>\n",
       "      <th>4</th>\n",
       "      <td>5</td>\n",
       "      <td>60</td>\n",
       "      <td>RL</td>\n",
       "      <td>84.0</td>\n",
       "      <td>14260</td>\n",
       "      <td>Pave</td>\n",
       "      <td>NaN</td>\n",
       "      <td>IR1</td>\n",
       "      <td>Lvl</td>\n",
       "      <td>AllPub</td>\n",
       "      <td>...</td>\n",
       "      <td>0</td>\n",
       "      <td>NaN</td>\n",
       "      <td>NaN</td>\n",
       "      <td>NaN</td>\n",
       "      <td>0</td>\n",
       "      <td>12</td>\n",
       "      <td>2008</td>\n",
       "      <td>WD</td>\n",
       "      <td>Normal</td>\n",
       "      <td>250000</td>\n",
       "    </tr>\n",
       "  </tbody>\n",
       "</table>\n",
       "<p>5 rows × 81 columns</p>\n",
       "</div>"
      ],
      "text/plain": [
       "   Id  MSSubClass MSZoning  LotFrontage  LotArea Street Alley LotShape  \\\n",
       "0   1          60       RL         65.0     8450   Pave   NaN      Reg   \n",
       "1   2          20       RL         80.0     9600   Pave   NaN      Reg   \n",
       "2   3          60       RL         68.0    11250   Pave   NaN      IR1   \n",
       "3   4          70       RL         60.0     9550   Pave   NaN      IR1   \n",
       "4   5          60       RL         84.0    14260   Pave   NaN      IR1   \n",
       "\n",
       "  LandContour Utilities  ... PoolArea PoolQC Fence MiscFeature MiscVal MoSold  \\\n",
       "0         Lvl    AllPub  ...        0    NaN   NaN         NaN       0      2   \n",
       "1         Lvl    AllPub  ...        0    NaN   NaN         NaN       0      5   \n",
       "2         Lvl    AllPub  ...        0    NaN   NaN         NaN       0      9   \n",
       "3         Lvl    AllPub  ...        0    NaN   NaN         NaN       0      2   \n",
       "4         Lvl    AllPub  ...        0    NaN   NaN         NaN       0     12   \n",
       "\n",
       "  YrSold  SaleType  SaleCondition  SalePrice  \n",
       "0   2008        WD         Normal     208500  \n",
       "1   2007        WD         Normal     181500  \n",
       "2   2008        WD         Normal     223500  \n",
       "3   2006        WD        Abnorml     140000  \n",
       "4   2008        WD         Normal     250000  \n",
       "\n",
       "[5 rows x 81 columns]"
      ]
     },
     "execution_count": 188,
     "metadata": {},
     "output_type": "execute_result"
    }
   ],
   "source": [
    "houses_train.head()"
   ]
  },
  {
   "cell_type": "markdown",
   "id": "bd2b5bc4-db37-4432-b666-0714afd0c4ca",
   "metadata": {},
   "source": [
    "## 1. Data Profiling:\n",
    "Data profiling is a comprehensive process of examining the data available in an existing dataset and collecting statistics and information about that data. "
   ]
  },
  {
   "cell_type": "code",
   "execution_count": 189,
   "metadata": {},
   "outputs": [
    {
     "data": {
      "text/plain": [
       "Index(['Id', 'MSSubClass', 'MSZoning', 'LotFrontage', 'LotArea', 'Street',\n",
       "       'Alley', 'LotShape', 'LandContour', 'Utilities', 'LotConfig',\n",
       "       'LandSlope', 'Neighborhood', 'Condition1', 'Condition2', 'BldgType',\n",
       "       'HouseStyle', 'OverallQual', 'OverallCond', 'YearBuilt', 'YearRemodAdd',\n",
       "       'RoofStyle', 'RoofMatl', 'Exterior1st', 'Exterior2nd', 'MasVnrType',\n",
       "       'MasVnrArea', 'ExterQual', 'ExterCond', 'Foundation', 'BsmtQual',\n",
       "       'BsmtCond', 'BsmtExposure', 'BsmtFinType1', 'BsmtFinSF1',\n",
       "       'BsmtFinType2', 'BsmtFinSF2', 'BsmtUnfSF', 'TotalBsmtSF', 'Heating',\n",
       "       'HeatingQC', 'CentralAir', 'Electrical', '1stFlrSF', '2ndFlrSF',\n",
       "       'LowQualFinSF', 'GrLivArea', 'BsmtFullBath', 'BsmtHalfBath', 'FullBath',\n",
       "       'HalfBath', 'BedroomAbvGr', 'KitchenAbvGr', 'KitchenQual',\n",
       "       'TotRmsAbvGrd', 'Functional', 'Fireplaces', 'FireplaceQu', 'GarageType',\n",
       "       'GarageYrBlt', 'GarageFinish', 'GarageCars', 'GarageArea', 'GarageQual',\n",
       "       'GarageCond', 'PavedDrive', 'WoodDeckSF', 'OpenPorchSF',\n",
       "       'EnclosedPorch', '3SsnPorch', 'ScreenPorch', 'PoolArea', 'PoolQC',\n",
       "       'Fence', 'MiscFeature', 'MiscVal', 'MoSold', 'YrSold', 'SaleType',\n",
       "       'SaleCondition', 'SalePrice'],\n",
       "      dtype='object')"
      ]
     },
     "execution_count": 189,
     "metadata": {},
     "output_type": "execute_result"
    }
   ],
   "source": [
    "houses_train.columns"
   ]
  },
  {
   "cell_type": "code",
   "execution_count": 190,
   "metadata": {},
   "outputs": [
    {
     "data": {
      "text/html": [
       "<div>\n",
       "<style scoped>\n",
       "    .dataframe tbody tr th:only-of-type {\n",
       "        vertical-align: middle;\n",
       "    }\n",
       "\n",
       "    .dataframe tbody tr th {\n",
       "        vertical-align: top;\n",
       "    }\n",
       "\n",
       "    .dataframe thead th {\n",
       "        text-align: right;\n",
       "    }\n",
       "</style>\n",
       "<table border=\"1\" class=\"dataframe\">\n",
       "  <thead>\n",
       "    <tr style=\"text-align: right;\">\n",
       "      <th></th>\n",
       "      <th>Id</th>\n",
       "      <th>MSSubClass</th>\n",
       "      <th>LotFrontage</th>\n",
       "      <th>LotArea</th>\n",
       "      <th>OverallQual</th>\n",
       "      <th>OverallCond</th>\n",
       "      <th>YearBuilt</th>\n",
       "      <th>YearRemodAdd</th>\n",
       "      <th>MasVnrArea</th>\n",
       "      <th>BsmtFinSF1</th>\n",
       "      <th>...</th>\n",
       "      <th>WoodDeckSF</th>\n",
       "      <th>OpenPorchSF</th>\n",
       "      <th>EnclosedPorch</th>\n",
       "      <th>3SsnPorch</th>\n",
       "      <th>ScreenPorch</th>\n",
       "      <th>PoolArea</th>\n",
       "      <th>MiscVal</th>\n",
       "      <th>MoSold</th>\n",
       "      <th>YrSold</th>\n",
       "      <th>SalePrice</th>\n",
       "    </tr>\n",
       "  </thead>\n",
       "  <tbody>\n",
       "    <tr>\n",
       "      <th>count</th>\n",
       "      <td>1460.000000</td>\n",
       "      <td>1460.000000</td>\n",
       "      <td>1201.000000</td>\n",
       "      <td>1460.000000</td>\n",
       "      <td>1460.000000</td>\n",
       "      <td>1460.000000</td>\n",
       "      <td>1460.000000</td>\n",
       "      <td>1460.000000</td>\n",
       "      <td>1452.000000</td>\n",
       "      <td>1460.000000</td>\n",
       "      <td>...</td>\n",
       "      <td>1460.000000</td>\n",
       "      <td>1460.000000</td>\n",
       "      <td>1460.000000</td>\n",
       "      <td>1460.000000</td>\n",
       "      <td>1460.000000</td>\n",
       "      <td>1460.000000</td>\n",
       "      <td>1460.000000</td>\n",
       "      <td>1460.000000</td>\n",
       "      <td>1460.000000</td>\n",
       "      <td>1460.000000</td>\n",
       "    </tr>\n",
       "    <tr>\n",
       "      <th>mean</th>\n",
       "      <td>730.500000</td>\n",
       "      <td>56.897260</td>\n",
       "      <td>70.049958</td>\n",
       "      <td>10516.828082</td>\n",
       "      <td>6.099315</td>\n",
       "      <td>5.575342</td>\n",
       "      <td>1971.267808</td>\n",
       "      <td>1984.865753</td>\n",
       "      <td>103.685262</td>\n",
       "      <td>443.639726</td>\n",
       "      <td>...</td>\n",
       "      <td>94.244521</td>\n",
       "      <td>46.660274</td>\n",
       "      <td>21.954110</td>\n",
       "      <td>3.409589</td>\n",
       "      <td>15.060959</td>\n",
       "      <td>2.758904</td>\n",
       "      <td>43.489041</td>\n",
       "      <td>6.321918</td>\n",
       "      <td>2007.815753</td>\n",
       "      <td>180921.195890</td>\n",
       "    </tr>\n",
       "    <tr>\n",
       "      <th>std</th>\n",
       "      <td>421.610009</td>\n",
       "      <td>42.300571</td>\n",
       "      <td>24.284752</td>\n",
       "      <td>9981.264932</td>\n",
       "      <td>1.382997</td>\n",
       "      <td>1.112799</td>\n",
       "      <td>30.202904</td>\n",
       "      <td>20.645407</td>\n",
       "      <td>181.066207</td>\n",
       "      <td>456.098091</td>\n",
       "      <td>...</td>\n",
       "      <td>125.338794</td>\n",
       "      <td>66.256028</td>\n",
       "      <td>61.119149</td>\n",
       "      <td>29.317331</td>\n",
       "      <td>55.757415</td>\n",
       "      <td>40.177307</td>\n",
       "      <td>496.123024</td>\n",
       "      <td>2.703626</td>\n",
       "      <td>1.328095</td>\n",
       "      <td>79442.502883</td>\n",
       "    </tr>\n",
       "    <tr>\n",
       "      <th>min</th>\n",
       "      <td>1.000000</td>\n",
       "      <td>20.000000</td>\n",
       "      <td>21.000000</td>\n",
       "      <td>1300.000000</td>\n",
       "      <td>1.000000</td>\n",
       "      <td>1.000000</td>\n",
       "      <td>1872.000000</td>\n",
       "      <td>1950.000000</td>\n",
       "      <td>0.000000</td>\n",
       "      <td>0.000000</td>\n",
       "      <td>...</td>\n",
       "      <td>0.000000</td>\n",
       "      <td>0.000000</td>\n",
       "      <td>0.000000</td>\n",
       "      <td>0.000000</td>\n",
       "      <td>0.000000</td>\n",
       "      <td>0.000000</td>\n",
       "      <td>0.000000</td>\n",
       "      <td>1.000000</td>\n",
       "      <td>2006.000000</td>\n",
       "      <td>34900.000000</td>\n",
       "    </tr>\n",
       "    <tr>\n",
       "      <th>25%</th>\n",
       "      <td>365.750000</td>\n",
       "      <td>20.000000</td>\n",
       "      <td>59.000000</td>\n",
       "      <td>7553.500000</td>\n",
       "      <td>5.000000</td>\n",
       "      <td>5.000000</td>\n",
       "      <td>1954.000000</td>\n",
       "      <td>1967.000000</td>\n",
       "      <td>0.000000</td>\n",
       "      <td>0.000000</td>\n",
       "      <td>...</td>\n",
       "      <td>0.000000</td>\n",
       "      <td>0.000000</td>\n",
       "      <td>0.000000</td>\n",
       "      <td>0.000000</td>\n",
       "      <td>0.000000</td>\n",
       "      <td>0.000000</td>\n",
       "      <td>0.000000</td>\n",
       "      <td>5.000000</td>\n",
       "      <td>2007.000000</td>\n",
       "      <td>129975.000000</td>\n",
       "    </tr>\n",
       "    <tr>\n",
       "      <th>50%</th>\n",
       "      <td>730.500000</td>\n",
       "      <td>50.000000</td>\n",
       "      <td>69.000000</td>\n",
       "      <td>9478.500000</td>\n",
       "      <td>6.000000</td>\n",
       "      <td>5.000000</td>\n",
       "      <td>1973.000000</td>\n",
       "      <td>1994.000000</td>\n",
       "      <td>0.000000</td>\n",
       "      <td>383.500000</td>\n",
       "      <td>...</td>\n",
       "      <td>0.000000</td>\n",
       "      <td>25.000000</td>\n",
       "      <td>0.000000</td>\n",
       "      <td>0.000000</td>\n",
       "      <td>0.000000</td>\n",
       "      <td>0.000000</td>\n",
       "      <td>0.000000</td>\n",
       "      <td>6.000000</td>\n",
       "      <td>2008.000000</td>\n",
       "      <td>163000.000000</td>\n",
       "    </tr>\n",
       "    <tr>\n",
       "      <th>75%</th>\n",
       "      <td>1095.250000</td>\n",
       "      <td>70.000000</td>\n",
       "      <td>80.000000</td>\n",
       "      <td>11601.500000</td>\n",
       "      <td>7.000000</td>\n",
       "      <td>6.000000</td>\n",
       "      <td>2000.000000</td>\n",
       "      <td>2004.000000</td>\n",
       "      <td>166.000000</td>\n",
       "      <td>712.250000</td>\n",
       "      <td>...</td>\n",
       "      <td>168.000000</td>\n",
       "      <td>68.000000</td>\n",
       "      <td>0.000000</td>\n",
       "      <td>0.000000</td>\n",
       "      <td>0.000000</td>\n",
       "      <td>0.000000</td>\n",
       "      <td>0.000000</td>\n",
       "      <td>8.000000</td>\n",
       "      <td>2009.000000</td>\n",
       "      <td>214000.000000</td>\n",
       "    </tr>\n",
       "    <tr>\n",
       "      <th>max</th>\n",
       "      <td>1460.000000</td>\n",
       "      <td>190.000000</td>\n",
       "      <td>313.000000</td>\n",
       "      <td>215245.000000</td>\n",
       "      <td>10.000000</td>\n",
       "      <td>9.000000</td>\n",
       "      <td>2010.000000</td>\n",
       "      <td>2010.000000</td>\n",
       "      <td>1600.000000</td>\n",
       "      <td>5644.000000</td>\n",
       "      <td>...</td>\n",
       "      <td>857.000000</td>\n",
       "      <td>547.000000</td>\n",
       "      <td>552.000000</td>\n",
       "      <td>508.000000</td>\n",
       "      <td>480.000000</td>\n",
       "      <td>738.000000</td>\n",
       "      <td>15500.000000</td>\n",
       "      <td>12.000000</td>\n",
       "      <td>2010.000000</td>\n",
       "      <td>755000.000000</td>\n",
       "    </tr>\n",
       "  </tbody>\n",
       "</table>\n",
       "<p>8 rows × 38 columns</p>\n",
       "</div>"
      ],
      "text/plain": [
       "                Id   MSSubClass  LotFrontage        LotArea  OverallQual  \\\n",
       "count  1460.000000  1460.000000  1201.000000    1460.000000  1460.000000   \n",
       "mean    730.500000    56.897260    70.049958   10516.828082     6.099315   \n",
       "std     421.610009    42.300571    24.284752    9981.264932     1.382997   \n",
       "min       1.000000    20.000000    21.000000    1300.000000     1.000000   \n",
       "25%     365.750000    20.000000    59.000000    7553.500000     5.000000   \n",
       "50%     730.500000    50.000000    69.000000    9478.500000     6.000000   \n",
       "75%    1095.250000    70.000000    80.000000   11601.500000     7.000000   \n",
       "max    1460.000000   190.000000   313.000000  215245.000000    10.000000   \n",
       "\n",
       "       OverallCond    YearBuilt  YearRemodAdd   MasVnrArea   BsmtFinSF1  ...  \\\n",
       "count  1460.000000  1460.000000   1460.000000  1452.000000  1460.000000  ...   \n",
       "mean      5.575342  1971.267808   1984.865753   103.685262   443.639726  ...   \n",
       "std       1.112799    30.202904     20.645407   181.066207   456.098091  ...   \n",
       "min       1.000000  1872.000000   1950.000000     0.000000     0.000000  ...   \n",
       "25%       5.000000  1954.000000   1967.000000     0.000000     0.000000  ...   \n",
       "50%       5.000000  1973.000000   1994.000000     0.000000   383.500000  ...   \n",
       "75%       6.000000  2000.000000   2004.000000   166.000000   712.250000  ...   \n",
       "max       9.000000  2010.000000   2010.000000  1600.000000  5644.000000  ...   \n",
       "\n",
       "        WoodDeckSF  OpenPorchSF  EnclosedPorch    3SsnPorch  ScreenPorch  \\\n",
       "count  1460.000000  1460.000000    1460.000000  1460.000000  1460.000000   \n",
       "mean     94.244521    46.660274      21.954110     3.409589    15.060959   \n",
       "std     125.338794    66.256028      61.119149    29.317331    55.757415   \n",
       "min       0.000000     0.000000       0.000000     0.000000     0.000000   \n",
       "25%       0.000000     0.000000       0.000000     0.000000     0.000000   \n",
       "50%       0.000000    25.000000       0.000000     0.000000     0.000000   \n",
       "75%     168.000000    68.000000       0.000000     0.000000     0.000000   \n",
       "max     857.000000   547.000000     552.000000   508.000000   480.000000   \n",
       "\n",
       "          PoolArea       MiscVal       MoSold       YrSold      SalePrice  \n",
       "count  1460.000000   1460.000000  1460.000000  1460.000000    1460.000000  \n",
       "mean      2.758904     43.489041     6.321918  2007.815753  180921.195890  \n",
       "std      40.177307    496.123024     2.703626     1.328095   79442.502883  \n",
       "min       0.000000      0.000000     1.000000  2006.000000   34900.000000  \n",
       "25%       0.000000      0.000000     5.000000  2007.000000  129975.000000  \n",
       "50%       0.000000      0.000000     6.000000  2008.000000  163000.000000  \n",
       "75%       0.000000      0.000000     8.000000  2009.000000  214000.000000  \n",
       "max     738.000000  15500.000000    12.000000  2010.000000  755000.000000  \n",
       "\n",
       "[8 rows x 38 columns]"
      ]
     },
     "execution_count": 190,
     "metadata": {},
     "output_type": "execute_result"
    }
   ],
   "source": [
    "houses_train.describe()"
   ]
  },
  {
   "cell_type": "markdown",
   "id": "834929aa-fd6a-4ec5-84d4-77c4b3c1a506",
   "metadata": {},
   "source": [
    "The process of profiling differs slightly for categorical and numerical variables due to their inherent differences.\n",
    "\n",
    "**The two main types of data are:**\n",
    "- Quantitative (numerical) data\n",
    "- Qualitative (categorical) data"
   ]
  },
  {
   "cell_type": "markdown",
   "id": "3a9954f5-6fbc-45b4-ad86-3e21b6e0ca2d",
   "metadata": {},
   "source": [
    "### Data Quality Checks\n",
    "Data quality checks involve the process of ensuring that the data is accurate, complete, consistent, relevant, and reliable. \n",
    "\n",
    "\n",
    "**Here are typical steps involved in checking data quality:**"
   ]
  },
  {
   "cell_type": "markdown",
   "id": "0f5e3a2a-bbb7-4d06-8220-c93277b70146",
   "metadata": {},
   "source": [
    "#### 5. Uniqueness: \n",
    "Check for and remove duplicate records to prevent skewed analysis results.\n"
   ]
  },
  {
   "cell_type": "code",
   "execution_count": 191,
   "metadata": {},
   "outputs": [
    {
     "data": {
      "text/plain": [
       "0"
      ]
     },
     "execution_count": 191,
     "metadata": {},
     "output_type": "execute_result"
    }
   ],
   "source": [
    "houses_train.duplicated().sum()"
   ]
  },
  {
   "cell_type": "markdown",
   "id": "c7724ac2-4ea2-4cf4-a9e0-e64368f87b92",
   "metadata": {},
   "source": [
    "#### 6. Completeness: \n",
    "Ensure that no critical data is missing. This might mean checking for null values or required fields that are empty.\n",
    "\n",
    "We will start by checking the dataset for missing or null values. For this, we can use the isna() method which returns a dataframe of boolean values indicating if a field is null or not. To group all missing values by column, we can include the sum() method."
   ]
  },
  {
   "cell_type": "code",
   "execution_count": 192,
   "id": "27c7e0ef",
   "metadata": {},
   "outputs": [
    {
     "data": {
      "text/plain": [
       "PoolQC          1453\n",
       "MiscFeature     1406\n",
       "Alley           1369\n",
       "Fence           1179\n",
       "MasVnrType       872\n",
       "FireplaceQu      690\n",
       "LotFrontage      259\n",
       "GarageYrBlt       81\n",
       "GarageCond        81\n",
       "GarageType        81\n",
       "GarageFinish      81\n",
       "GarageQual        81\n",
       "BsmtFinType2      38\n",
       "BsmtExposure      38\n",
       "BsmtQual          37\n",
       "BsmtCond          37\n",
       "BsmtFinType1      37\n",
       "MasVnrArea         8\n",
       "Electrical         1\n",
       "Id                 0\n",
       "Functional         0\n",
       "Fireplaces         0\n",
       "KitchenQual        0\n",
       "KitchenAbvGr       0\n",
       "BedroomAbvGr       0\n",
       "HalfBath           0\n",
       "FullBath           0\n",
       "BsmtHalfBath       0\n",
       "TotRmsAbvGrd       0\n",
       "GarageCars         0\n",
       "dtype: int64"
      ]
     },
     "execution_count": 192,
     "metadata": {},
     "output_type": "execute_result"
    }
   ],
   "source": [
    "houses_train.isnull().sum().sort_values(ascending=False).head(30)"
   ]
  },
  {
   "cell_type": "code",
   "execution_count": 193,
   "id": "af0eb7c3",
   "metadata": {},
   "outputs": [
    {
     "data": {
      "text/plain": [
       "LotFrontage\n",
       "60.0     143\n",
       "70.0      70\n",
       "80.0      69\n",
       "50.0      57\n",
       "75.0      53\n",
       "        ... \n",
       "137.0      1\n",
       "141.0      1\n",
       "38.0       1\n",
       "140.0      1\n",
       "46.0       1\n",
       "Name: count, Length: 110, dtype: int64"
      ]
     },
     "execution_count": 193,
     "metadata": {},
     "output_type": "execute_result"
    }
   ],
   "source": [
    "houses_train[\"LotFrontage\"].value_counts()"
   ]
  },
  {
   "cell_type": "code",
   "execution_count": 194,
   "id": "97eb9979",
   "metadata": {},
   "outputs": [
    {
     "data": {
      "text/plain": [
       "(1460, 81)"
      ]
     },
     "execution_count": 194,
     "metadata": {},
     "output_type": "execute_result"
    }
   ],
   "source": [
    "houses_train.shape"
   ]
  },
  {
   "cell_type": "markdown",
   "id": "b40de63c-5a1d-49ed-a87e-c5229ee08bbe",
   "metadata": {},
   "source": [
    "#### 7. Check Accuracy:\n"
   ]
  },
  {
   "attachments": {},
   "cell_type": "markdown",
   "id": "4e886ec7-388c-414b-ada7-803c2fb1f2cb",
   "metadata": {},
   "source": [
    "## 2. Data Cleaning: \n",
    "\n"
   ]
  },
  {
   "cell_type": "markdown",
   "id": "21876b48-f5ec-4970-85a9-0520d45d8841",
   "metadata": {},
   "source": [
    "### Handling missing values:"
   ]
  },
  {
   "cell_type": "code",
   "execution_count": 265,
   "id": "db1aa936",
   "metadata": {},
   "outputs": [],
   "source": [
    "columns_to_drop = [\"MiscFeature\", \"Alley\", \"Fence\"]\n",
    "houses_train.drop(columns=columns_to_drop, inplace=True)"
   ]
  },
  {
   "cell_type": "code",
   "execution_count": 196,
   "metadata": {},
   "outputs": [
    {
     "data": {
      "text/plain": [
       "1453"
      ]
     },
     "execution_count": 196,
     "metadata": {},
     "output_type": "execute_result"
    }
   ],
   "source": [
    "houses_train['PoolQC'].isnull().sum()"
   ]
  },
  {
   "cell_type": "code",
   "execution_count": 266,
   "metadata": {},
   "outputs": [],
   "source": [
    "houses_train.drop('PoolQC',axis=1,inplace=True)"
   ]
  },
  {
   "cell_type": "code",
   "execution_count": 267,
   "metadata": {},
   "outputs": [
    {
     "name": "stderr",
     "output_type": "stream",
     "text": [
      "C:\\Users\\user\\AppData\\Local\\Temp\\ipykernel_24460\\3840104012.py:1: FutureWarning: A value is trying to be set on a copy of a DataFrame or Series through chained assignment using an inplace method.\n",
      "The behavior will change in pandas 3.0. This inplace method will never work because the intermediate object on which we are setting values always behaves as a copy.\n",
      "\n",
      "For example, when doing 'df[col].method(value, inplace=True)', try using 'df.method({col: value}, inplace=True)' or df[col] = df[col].method(value) instead, to perform the operation inplace on the original object.\n",
      "\n",
      "\n",
      "  houses_train[\"MasVnrType\"].fillna(\"NA\",inplace=True)\n",
      "C:\\Users\\user\\AppData\\Local\\Temp\\ipykernel_24460\\3840104012.py:2: FutureWarning: A value is trying to be set on a copy of a DataFrame or Series through chained assignment using an inplace method.\n",
      "The behavior will change in pandas 3.0. This inplace method will never work because the intermediate object on which we are setting values always behaves as a copy.\n",
      "\n",
      "For example, when doing 'df[col].method(value, inplace=True)', try using 'df.method({col: value}, inplace=True)' or df[col] = df[col].method(value) instead, to perform the operation inplace on the original object.\n",
      "\n",
      "\n",
      "  houses_train[\"BsmtExposure\"].fillna(\"NA\",inplace=True)\n",
      "C:\\Users\\user\\AppData\\Local\\Temp\\ipykernel_24460\\3840104012.py:3: FutureWarning: A value is trying to be set on a copy of a DataFrame or Series through chained assignment using an inplace method.\n",
      "The behavior will change in pandas 3.0. This inplace method will never work because the intermediate object on which we are setting values always behaves as a copy.\n",
      "\n",
      "For example, when doing 'df[col].method(value, inplace=True)', try using 'df.method({col: value}, inplace=True)' or df[col] = df[col].method(value) instead, to perform the operation inplace on the original object.\n",
      "\n",
      "\n",
      "  houses_train[\"FireplaceQu\"].fillna(\"NA\",inplace=True)\n",
      "C:\\Users\\user\\AppData\\Local\\Temp\\ipykernel_24460\\3840104012.py:4: FutureWarning: A value is trying to be set on a copy of a DataFrame or Series through chained assignment using an inplace method.\n",
      "The behavior will change in pandas 3.0. This inplace method will never work because the intermediate object on which we are setting values always behaves as a copy.\n",
      "\n",
      "For example, when doing 'df[col].method(value, inplace=True)', try using 'df.method({col: value}, inplace=True)' or df[col] = df[col].method(value) instead, to perform the operation inplace on the original object.\n",
      "\n",
      "\n",
      "  houses_train[\"BsmtFinType2\"].fillna(\"NA\",inplace=True)\n"
     ]
    }
   ],
   "source": [
    "houses_train[\"MasVnrType\"].fillna(\"NA\",inplace=True)\n",
    "houses_train[\"BsmtExposure\"].fillna(\"NA\",inplace=True)\n",
    "houses_train[\"FireplaceQu\"].fillna(\"NA\",inplace=True)\n",
    "houses_train[\"BsmtFinType2\"].fillna(\"NA\",inplace=True)\n",
    "houses_train.fillna(0,inplace=True)\n",
    "       "
   ]
  },
  {
   "cell_type": "code",
   "execution_count": 199,
   "id": "f60b5e2f",
   "metadata": {},
   "outputs": [
    {
     "data": {
      "text/plain": [
       "Id               0\n",
       "HalfBath         0\n",
       "FireplaceQu      0\n",
       "Fireplaces       0\n",
       "Functional       0\n",
       "TotRmsAbvGrd     0\n",
       "KitchenQual      0\n",
       "KitchenAbvGr     0\n",
       "BedroomAbvGr     0\n",
       "FullBath         0\n",
       "HeatingQC        0\n",
       "BsmtHalfBath     0\n",
       "BsmtFullBath     0\n",
       "GrLivArea        0\n",
       "LowQualFinSF     0\n",
       "2ndFlrSF         0\n",
       "1stFlrSF         0\n",
       "Electrical       0\n",
       "GarageType       0\n",
       "GarageYrBlt      0\n",
       "GarageFinish     0\n",
       "GarageCars       0\n",
       "SaleCondition    0\n",
       "SaleType         0\n",
       "YrSold           0\n",
       "MoSold           0\n",
       "MiscVal          0\n",
       "PoolArea         0\n",
       "ScreenPorch      0\n",
       "3SsnPorch        0\n",
       "dtype: int64"
      ]
     },
     "execution_count": 199,
     "metadata": {},
     "output_type": "execute_result"
    }
   ],
   "source": [
    "houses_train.isnull().sum().sort_values(ascending=False).head(30)"
   ]
  },
  {
   "cell_type": "markdown",
   "id": "f7cee10f-0af8-44e5-b595-8e965294daad",
   "metadata": {},
   "source": [
    "### Outliers\n",
    "\n",
    "-------------------"
   ]
  },
  {
   "cell_type": "code",
   "execution_count": 200,
   "metadata": {},
   "outputs": [],
   "source": [
    "# Compute Z-scores for the \"SalePrice\" column\n",
    "houses_train[\"p_z_score\"] = zscore(houses_train[\"SalePrice\"])\n",
    "\n",
    "\n",
    "\n",
    "# Identify outliers (|Z| > 3)\n",
    "# I assume this is outliers so i will drop it from the dataset\n",
    "\n",
    "indexs = houses_train[houses_train[\"p_z_score\"].abs() > 3].sort_values('SalePrice').index\n",
    "\n",
    "houses_train.drop(indexs,inplace=True)\n",
    "del houses_train[\"p_z_score\"]\n"
   ]
  },
  {
   "cell_type": "code",
   "execution_count": 201,
   "metadata": {},
   "outputs": [],
   "source": [
    "# Compute Z-scores for the \"GrLivArea\" column\n",
    "houses_train[\"p_z_score\"] = zscore(houses_train[\"GrLivArea\"])\n",
    "\n",
    "\n",
    "\n",
    "# Identify outliers (|Z| > 3)\n",
    "# I assume this is outliers so i will drop it from the dataset\n",
    "\n",
    "indexs = houses_train[houses_train[\"p_z_score\"].abs() > 3].sort_values('GrLivArea').index\n",
    "\n",
    "houses_train.drop(indexs,inplace=True)\n",
    "del houses_train[\"p_z_score\"]\n"
   ]
  },
  {
   "cell_type": "code",
   "execution_count": 202,
   "metadata": {},
   "outputs": [],
   "source": [
    "# Compute Z-scores for the \"TotRmsAbvGrd\" column\n",
    "houses_train[\"p_z_score\"] = zscore(houses_train[\"TotRmsAbvGrd\"])\n",
    "\n",
    "\n",
    "\n",
    "# Identify outliers (|Z| > 3)\n",
    "# I assume this is outliers so i will drop it from the dataset\n",
    "\n",
    "indexs = houses_train[houses_train[\"p_z_score\"].abs() > 3].sort_values('TotRmsAbvGrd').index\n",
    "\n",
    "houses_train.drop(indexs,inplace=True)\n",
    "del houses_train[\"p_z_score\"]\n"
   ]
  },
  {
   "cell_type": "code",
   "execution_count": 203,
   "metadata": {},
   "outputs": [],
   "source": [
    "# Compute Z-scores for the \"TotRmsAbvGrd\" column\n",
    "houses_train[\"p_z_score\"] = zscore(houses_train[\"WoodDeckSF\"])\n",
    "\n",
    "\n",
    "\n",
    "# Identify outliers (|Z| > 3)\n",
    "# I assume this is outliers so i will drop it from the dataset\n",
    "\n",
    "indexs =houses_train[houses_train[\"p_z_score\"].abs() > 4]['WoodDeckSF'].sort_values().index\n",
    "\n",
    "houses_train.drop(indexs,inplace=True)\n",
    "del houses_train[\"p_z_score\"]\n"
   ]
  },
  {
   "cell_type": "code",
   "execution_count": 204,
   "metadata": {},
   "outputs": [],
   "source": [
    "# Compute Z-scores for the \"TotRmsAbvGrd\" column\n",
    "houses_train[\"p_z_score\"] = zscore(houses_train[\"2ndFlrSF\"])\n",
    "\n",
    "\n",
    "\n",
    "# Identify outliers (|Z| > 3)\n",
    "# I assume this is outliers so i will drop it from the dataset\n",
    "\n",
    "\n",
    "indexs =houses_train[houses_train[\"p_z_score\"].abs() > 3]['2ndFlrSF'].sort_values().index\n",
    "\n",
    "houses_train.drop(indexs,inplace=True)\n",
    "del houses_train[\"p_z_score\"]\n",
    "\n"
   ]
  },
  {
   "cell_type": "code",
   "execution_count": 205,
   "metadata": {},
   "outputs": [],
   "source": [
    "# Compute Z-scores for the \"YearRemodAdd\" column\n",
    "houses_train[\"p_z_score\"] = zscore(houses_train[\"YearRemodAdd\"])\n",
    "\n",
    "\n",
    "\n",
    "# Identify outliers (|Z| > 3)\n",
    "# I assume this is outliers so i will drop it from the dataset\n",
    "\n",
    "indexs = houses_train[houses_train[\"p_z_score\"].abs() > 3].sort_values('YearRemodAdd').index\n",
    "\n",
    "houses_train.drop(indexs,inplace=True)\n",
    "del houses_train[\"p_z_score\"]"
   ]
  },
  {
   "cell_type": "code",
   "execution_count": 206,
   "id": "ba4adfe0",
   "metadata": {},
   "outputs": [
    {
     "data": {
      "text/plain": [
       "(1405, 77)"
      ]
     },
     "execution_count": 206,
     "metadata": {},
     "output_type": "execute_result"
    }
   ],
   "source": [
    "houses_train.shape"
   ]
  },
  {
   "cell_type": "code",
   "execution_count": 207,
   "id": "7d2b1953",
   "metadata": {},
   "outputs": [],
   "source": [
    "# Identify numerical columns\n",
    "numerical_features = houses_train.select_dtypes(include=['number']).columns.tolist()\n",
    "\n",
    "# Display the numerical columns\n",
    "#numerical_features"
   ]
  },
  {
   "cell_type": "markdown",
   "id": "98548b66-e309-4eb8-a5dc-65fe0abbf1e8",
   "metadata": {},
   "source": [
    "## 3. Univariate Analysis: \n",
    "\n"
   ]
  },
  {
   "cell_type": "markdown",
   "id": "d2641f0d-80f2-493b-99b7-15476379a1e2",
   "metadata": {},
   "source": [
    "#### II. Numerical Variables:\n"
   ]
  },
  {
   "cell_type": "code",
   "execution_count": 208,
   "id": "5be16f08-a072-4a02-a3ee-6f9d57786fb4",
   "metadata": {},
   "outputs": [
    {
     "data": {
      "image/png": "[encoded data removed]",
      "text/plain": [
       "<Figure size 1600x2000 with 42 Axes>"
      ]
     },
     "metadata": {},
     "output_type": "display_data"
    }
   ],
   "source": [
    "df_num = houses_train.select_dtypes(include = ['float64', 'int64'])\n",
    "df_num.hist(figsize=(16, 20), bins=50, xlabelsize=8, ylabelsize=8);"
   ]
  },
  {
   "cell_type": "markdown",
   "id": "efb43b30-b1f0-48a4-a19c-195810cc8a0f",
   "metadata": {},
   "source": [
    "We could also use a correlation matrix to get more specific information about the relationship between these two variables."
   ]
  },
  {
   "cell_type": "markdown",
   "metadata": {},
   "source": [
    "## Feature engineering: \n",
    "\n",
    "- Feature scaling\n",
    "- Aggregation\n",
    "- One hot coding\n",
    "\n",
    "-------------------"
   ]
  },
  {
   "cell_type": "code",
   "execution_count": 268,
   "id": "f45a5a8b",
   "metadata": {},
   "outputs": [
    {
     "data": {
      "text/plain": [
       "Index(['MSZoning', 'Street', 'LotShape', 'LandContour', 'Utilities',\n",
       "       'LotConfig', 'LandSlope', 'Neighborhood', 'Condition1', 'Condition2',\n",
       "       'BldgType', 'HouseStyle', 'RoofStyle', 'RoofMatl', 'Exterior1st',\n",
       "       'Exterior2nd', 'MasVnrType', 'ExterQual', 'ExterCond', 'Foundation',\n",
       "       'BsmtQual', 'BsmtCond', 'BsmtExposure', 'BsmtFinType1', 'BsmtFinType2',\n",
       "       'Heating', 'HeatingQC', 'CentralAir', 'Electrical', 'KitchenQual',\n",
       "       'Functional', 'FireplaceQu', 'GarageType', 'GarageFinish', 'GarageQual',\n",
       "       'GarageCond', 'PavedDrive', 'SaleType', 'SaleCondition'],\n",
       "      dtype='object')"
      ]
     },
     "execution_count": 268,
     "metadata": {},
     "output_type": "execute_result"
    }
   ],
   "source": [
    "categorical_features = houses_train.select_dtypes(include=object).columns\n",
    "numeric_features = houses_train.select_dtypes(include=np.number).columns\n",
    "categorical_features"
   ]
  },
  {
   "cell_type": "code",
   "execution_count": 210,
   "id": "6faab76c",
   "metadata": {},
   "outputs": [
    {
     "data": {
      "text/plain": [
       "Index(['Id', 'MSSubClass', 'LotFrontage', 'LotArea', 'OverallQual',\n",
       "       'OverallCond', 'YearBuilt', 'YearRemodAdd', 'MasVnrArea', 'BsmtFinSF1',\n",
       "       'BsmtFinSF2', 'BsmtUnfSF', 'TotalBsmtSF', '1stFlrSF', '2ndFlrSF',\n",
       "       'LowQualFinSF', 'GrLivArea', 'BsmtFullBath', 'BsmtHalfBath', 'FullBath',\n",
       "       'HalfBath', 'BedroomAbvGr', 'KitchenAbvGr', 'TotRmsAbvGrd',\n",
       "       'Fireplaces', 'GarageYrBlt', 'GarageCars', 'GarageArea', 'WoodDeckSF',\n",
       "       'OpenPorchSF', 'EnclosedPorch', '3SsnPorch', 'ScreenPorch', 'PoolArea',\n",
       "       'MiscVal', 'MoSold', 'YrSold', 'SalePrice'],\n",
       "      dtype='object')"
      ]
     },
     "execution_count": 210,
     "metadata": {},
     "output_type": "execute_result"
    }
   ],
   "source": [
    "numeric_features"
   ]
  },
  {
   "cell_type": "code",
   "execution_count": 211,
   "id": "34c533db",
   "metadata": {},
   "outputs": [
    {
     "name": "stdout",
     "output_type": "stream",
     "text": [
      "MSZoning\n",
      "C (all)      10\n",
      "RH           15\n",
      "FV           64\n",
      "RM          212\n",
      "RL         1104\n",
      "Name: count, dtype: int64\n",
      "Street\n",
      "Grvl       5\n",
      "Pave    1400\n",
      "Name: count, dtype: int64\n",
      "LotShape\n",
      "IR3      9\n",
      "IR2     36\n",
      "IR1    460\n",
      "Reg    900\n",
      "Name: count, dtype: int64\n",
      "LandContour\n",
      "Low      35\n",
      "HLS      46\n",
      "Bnk      58\n",
      "Lvl    1266\n",
      "Name: count, dtype: int64\n",
      "Utilities\n",
      "NoSeWa       1\n",
      "AllPub    1404\n",
      "Name: count, dtype: int64\n",
      "LotConfig\n",
      "FR3           4\n",
      "FR2          47\n",
      "CulDSac      88\n",
      "Corner      249\n",
      "Inside     1017\n",
      "Name: count, dtype: int64\n",
      "LandSlope\n",
      "Sev      12\n",
      "Mod      61\n",
      "Gtl    1332\n",
      "Name: count, dtype: int64\n",
      "Neighborhood\n",
      "Blueste      2\n",
      "NPkVill      9\n",
      "Veenker     10\n",
      "BrDale      16\n",
      "MeadowV     16\n",
      "Blmngtn     17\n",
      "StoneBr     20\n",
      "SWISU       22\n",
      "ClearCr     27\n",
      "NoRidge     34\n",
      "Timber      37\n",
      "IDOTRR      37\n",
      "Crawfor     48\n",
      "Mitchel     49\n",
      "SawyerW     56\n",
      "BrkSide     58\n",
      "NridgHt     66\n",
      "NWAmes      70\n",
      "Sawyer      73\n",
      "Gilbert     79\n",
      "Somerst     84\n",
      "Edwards     97\n",
      "OldTown    108\n",
      "CollgCr    149\n",
      "NAmes      221\n",
      "Name: count, dtype: int64\n",
      "Condition1\n",
      "RRNe         2\n",
      "RRNn         5\n",
      "PosA         8\n",
      "RRAe        11\n",
      "PosN        16\n",
      "RRAn        24\n",
      "Artery      45\n",
      "Feedr       75\n",
      "Norm      1219\n",
      "Name: count, dtype: int64\n",
      "Condition2\n",
      "PosA         1\n",
      "PosN         1\n",
      "RRAn         1\n",
      "Artery       2\n",
      "RRNn         2\n",
      "Feedr        6\n",
      "Norm      1392\n",
      "Name: count, dtype: int64\n",
      "BldgType\n",
      "2fmCon      28\n",
      "Twnhs       43\n",
      "Duplex      48\n",
      "TwnhsE     113\n",
      "1Fam      1173\n",
      "Name: count, dtype: int64\n",
      "HouseStyle\n",
      "2.5Fin      3\n",
      "2.5Unf     10\n",
      "1.5Unf     14\n",
      "SFoyer     37\n",
      "SLvl       64\n",
      "1.5Fin    149\n",
      "2Story    412\n",
      "1Story    716\n",
      "Name: count, dtype: int64\n",
      "RoofStyle\n",
      "Shed          1\n",
      "Mansard       6\n",
      "Gambrel      11\n",
      "Flat         13\n",
      "Hip         262\n",
      "Gable      1112\n",
      "Name: count, dtype: int64\n",
      "RoofMatl\n",
      "Metal         1\n",
      "Membran       1\n",
      "Roll          1\n",
      "WdShngl       3\n",
      "WdShake       4\n",
      "Tar&Grv      11\n",
      "CompShg    1384\n",
      "Name: count, dtype: int64\n",
      "Exterior1st\n",
      "AsphShn      1\n",
      "ImStucc      1\n",
      "CBlock       1\n",
      "BrkComm      2\n",
      "Stone        2\n",
      "AsbShng     19\n",
      "Stucco      22\n",
      "WdShing     24\n",
      "BrkFace     48\n",
      "CemntBd     53\n",
      "Plywood    103\n",
      "Wd Sdng    200\n",
      "MetalSd    215\n",
      "HdBoard    218\n",
      "VinylSd    496\n",
      "Name: count, dtype: int64\n",
      "Exterior2nd\n",
      "Other        1\n",
      "CBlock       1\n",
      "AsphShn      3\n",
      "Stone        5\n",
      "Brk Cmn      7\n",
      "ImStucc      9\n",
      "AsbShng     18\n",
      "Stucco      23\n",
      "BrkFace     24\n",
      "Wd Shng     35\n",
      "CmentBd     53\n",
      "Plywood    136\n",
      "Wd Sdng    191\n",
      "HdBoard    203\n",
      "MetalSd    210\n",
      "VinylSd    486\n",
      "Name: count, dtype: int64\n",
      "MasVnrType\n",
      "BrkCmn      15\n",
      "Stone      115\n",
      "BrkFace    428\n",
      "NA         847\n",
      "Name: count, dtype: int64\n",
      "ExterQual\n",
      "Fa     13\n",
      "Ex     34\n",
      "Gd    471\n",
      "TA    887\n",
      "Name: count, dtype: int64\n",
      "ExterCond\n",
      "Po       1\n",
      "Ex       3\n",
      "Fa      28\n",
      "Gd     139\n",
      "TA    1234\n",
      "Name: count, dtype: int64\n",
      "Foundation\n",
      "Wood        3\n",
      "Stone       5\n",
      "Slab       23\n",
      "BrkTil    141\n",
      "PConc     613\n",
      "CBlock    620\n",
      "Name: count, dtype: int64\n",
      "BsmtQual\n",
      "Fa     35\n",
      "0      36\n",
      "Ex     97\n",
      "Gd    604\n",
      "TA    633\n",
      "Name: count, dtype: int64\n",
      "BsmtCond\n",
      "Po       2\n",
      "0       36\n",
      "Fa      43\n",
      "Gd      61\n",
      "TA    1263\n",
      "Name: count, dtype: int64\n",
      "BsmtExposure\n",
      "NA     37\n",
      "Mn    109\n",
      "Gd    118\n",
      "Av    215\n",
      "No    926\n",
      "Name: count, dtype: int64\n",
      "BsmtFinType1\n",
      "0       36\n",
      "LwQ     72\n",
      "Rec    130\n",
      "BLQ    145\n",
      "ALQ    216\n",
      "GLQ    390\n",
      "Unf    416\n",
      "Name: count, dtype: int64\n",
      "BsmtFinType2\n",
      "GLQ      14\n",
      "ALQ      17\n",
      "BLQ      31\n",
      "NA       37\n",
      "LwQ      43\n",
      "Rec      53\n",
      "Unf    1210\n",
      "Name: count, dtype: int64\n",
      "Heating\n",
      "Floor       1\n",
      "OthW        2\n",
      "Wall        4\n",
      "Grav        7\n",
      "GasW       18\n",
      "GasA     1373\n",
      "Name: count, dtype: int64\n",
      "HeatingQC\n",
      "Po      1\n",
      "Fa     48\n",
      "Gd    235\n",
      "TA    419\n",
      "Ex    702\n",
      "Name: count, dtype: int64\n",
      "CentralAir\n",
      "N      93\n",
      "Y    1312\n",
      "Name: count, dtype: int64\n",
      "Electrical\n",
      "Mix         1\n",
      "0           1\n",
      "FuseP       3\n",
      "FuseF      27\n",
      "FuseA      91\n",
      "SBrkr    1282\n",
      "Name: count, dtype: int64\n",
      "KitchenQual\n",
      "Fa     38\n",
      "Ex     77\n",
      "Gd    570\n",
      "TA    720\n",
      "Name: count, dtype: int64\n",
      "Functional\n",
      "Sev        1\n",
      "Maj2       5\n",
      "Maj1      12\n",
      "Mod       14\n",
      "Min1      30\n",
      "Min2      33\n",
      "Typ     1310\n",
      "Name: count, dtype: int64\n",
      "FireplaceQu\n",
      "Ex     16\n",
      "Po     20\n",
      "Fa     33\n",
      "TA    301\n",
      "Gd    354\n",
      "NA    681\n",
      "Name: count, dtype: int64\n",
      "GarageType\n",
      "2Types       6\n",
      "CarPort      9\n",
      "Basment     17\n",
      "BuiltIn     70\n",
      "0           79\n",
      "Detchd     379\n",
      "Attchd     845\n",
      "Name: count, dtype: int64\n",
      "GarageFinish\n",
      "0       79\n",
      "Fin    321\n",
      "RFn    411\n",
      "Unf    594\n",
      "Name: count, dtype: int64\n",
      "GarageQual\n",
      "Ex       2\n",
      "Po       3\n",
      "Gd      14\n",
      "Fa      47\n",
      "0       79\n",
      "TA    1260\n",
      "Name: count, dtype: int64\n",
      "GarageCond\n",
      "Ex       2\n",
      "Po       6\n",
      "Gd       9\n",
      "Fa      35\n",
      "0       79\n",
      "TA    1274\n",
      "Name: count, dtype: int64\n",
      "PavedDrive\n",
      "P      30\n",
      "N      86\n",
      "Y    1289\n",
      "Name: count, dtype: int64\n",
      "SaleType\n",
      "Con         2\n",
      "Oth         3\n",
      "ConLI       4\n",
      "CWD         4\n",
      "ConLw       5\n",
      "ConLD       9\n",
      "COD        43\n",
      "New       105\n",
      "WD       1230\n",
      "Name: count, dtype: int64\n",
      "SaleCondition\n",
      "AdjLand       4\n",
      "Alloca       10\n",
      "Family       20\n",
      "Abnorml      98\n",
      "Partial     108\n",
      "Normal     1165\n",
      "Name: count, dtype: int64\n"
     ]
    }
   ],
   "source": [
    "for i in categorical_features:\n",
    "    print(houses_train[i].value_counts().sort_values())"
   ]
  },
  {
   "cell_type": "code",
   "execution_count": 269,
   "id": "5aa24812",
   "metadata": {},
   "outputs": [],
   "source": [
    "counts = houses_train['SaleType'].value_counts()\n",
    "\n",
    "\n",
    "houses_train = houses_train[houses_train['SaleType'].isin(counts[counts >3].index)]"
   ]
  },
  {
   "cell_type": "code",
   "execution_count": 270,
   "id": "c277b44e",
   "metadata": {},
   "outputs": [
    {
     "data": {
      "text/plain": [
       "(1455, 77)"
      ]
     },
     "execution_count": 270,
     "metadata": {},
     "output_type": "execute_result"
    }
   ],
   "source": [
    "houses_train.shape"
   ]
  },
  {
   "cell_type": "code",
   "execution_count": 271,
   "id": "90404ea1",
   "metadata": {},
   "outputs": [],
   "source": [
    "counts = houses_train['GarageCond'].value_counts()\n",
    "\n",
    "\n",
    "houses_train = houses_train[houses_train['GarageCond'].isin(counts[counts >3].index)]"
   ]
  },
  {
   "cell_type": "code",
   "execution_count": 272,
   "id": "363aedb0",
   "metadata": {},
   "outputs": [],
   "source": [
    "counts = houses_train['Functional'].value_counts()\n",
    "\n",
    "\n",
    "houses_train = houses_train[houses_train['Functional'].isin(counts[counts >3].index)]"
   ]
  },
  {
   "cell_type": "code",
   "execution_count": 273,
   "id": "5c6673ba",
   "metadata": {},
   "outputs": [],
   "source": [
    "counts = houses_train['Electrical'].value_counts()\n",
    "\n",
    "\n",
    "houses_train = houses_train[houses_train['Electrical'].isin(counts[counts >3].index)]"
   ]
  },
  {
   "cell_type": "code",
   "execution_count": 274,
   "id": "caceeb2d",
   "metadata": {},
   "outputs": [],
   "source": [
    "counts = houses_train['HeatingQC'].value_counts()\n",
    "\n",
    "\n",
    "houses_train = houses_train[houses_train['HeatingQC'].isin(counts[counts >3].index)]"
   ]
  },
  {
   "cell_type": "code",
   "execution_count": 275,
   "id": "fbbae26a",
   "metadata": {},
   "outputs": [],
   "source": [
    "counts = houses_train['Heating'].value_counts()\n",
    "\n",
    "\n",
    "houses_train = houses_train[houses_train['Heating'].isin(counts[counts >3].index)]"
   ]
  },
  {
   "cell_type": "code",
   "execution_count": 276,
   "id": "7f6390c6",
   "metadata": {},
   "outputs": [],
   "source": [
    "counts = houses_train['BsmtCond'].value_counts()\n",
    "\n",
    "\n",
    "houses_train = houses_train[houses_train['BsmtCond'].isin(counts[counts >3].index)]"
   ]
  },
  {
   "cell_type": "code",
   "execution_count": 277,
   "id": "f900fdb1",
   "metadata": {},
   "outputs": [],
   "source": [
    "counts = houses_train['Foundation'].value_counts()\n",
    "\n",
    "\n",
    "houses_train = houses_train[houses_train['Foundation'].isin(counts[counts >3].index)]"
   ]
  },
  {
   "cell_type": "code",
   "execution_count": 278,
   "id": "a73e306f",
   "metadata": {},
   "outputs": [],
   "source": [
    "counts = houses_train['ExterCond'].value_counts()\n",
    "\n",
    "\n",
    "houses_train = houses_train[houses_train['ExterCond'].isin(counts[counts >3].index)]"
   ]
  },
  {
   "cell_type": "code",
   "execution_count": 279,
   "id": "49604aef",
   "metadata": {},
   "outputs": [],
   "source": [
    "counts = houses_train['Exterior2nd'].value_counts()\n",
    "\n",
    "\n",
    "houses_train = houses_train[houses_train['Exterior2nd'].isin(counts[counts >3].index)]"
   ]
  },
  {
   "cell_type": "code",
   "execution_count": 280,
   "id": "c0be1a01",
   "metadata": {},
   "outputs": [],
   "source": [
    "counts = houses_train['Exterior1st'].value_counts()\n",
    "\n",
    "\n",
    "houses_train = houses_train[houses_train['Exterior1st'].isin(counts[counts >3].index)]"
   ]
  },
  {
   "cell_type": "code",
   "execution_count": 281,
   "id": "9b72d04b",
   "metadata": {},
   "outputs": [],
   "source": [
    "counts = houses_train['RoofMatl'].value_counts()\n",
    "\n",
    "\n",
    "houses_train = houses_train[houses_train['RoofMatl'].isin(counts[counts >3].index)]"
   ]
  },
  {
   "cell_type": "code",
   "execution_count": 282,
   "id": "376dd62e",
   "metadata": {},
   "outputs": [],
   "source": [
    "counts = houses_train['RoofStyle'].value_counts()\n",
    "\n",
    "\n",
    "houses_train = houses_train[houses_train['RoofStyle'].isin(counts[counts >3].index)]"
   ]
  },
  {
   "cell_type": "code",
   "execution_count": 283,
   "id": "04ada030",
   "metadata": {},
   "outputs": [],
   "source": [
    "counts = houses_train['HouseStyle'].value_counts()\n",
    "\n",
    "\n",
    "houses_train = houses_train[houses_train['HouseStyle'].isin(counts[counts >3].index)]"
   ]
  },
  {
   "cell_type": "code",
   "execution_count": 284,
   "id": "f45b8a96",
   "metadata": {},
   "outputs": [],
   "source": [
    "counts = houses_train['Condition2'].value_counts()\n",
    "\n",
    "\n",
    "houses_train = houses_train[houses_train['Condition2'].isin(counts[counts >3].index)]"
   ]
  },
  {
   "cell_type": "code",
   "execution_count": 285,
   "id": "9f0939da",
   "metadata": {},
   "outputs": [],
   "source": [
    "counts = houses_train['Condition1'].value_counts()\n",
    "\n",
    "\n",
    "houses_train = houses_train[houses_train['Condition1'].isin(counts[counts >3].index)]"
   ]
  },
  {
   "cell_type": "code",
   "execution_count": 286,
   "id": "b10b13da",
   "metadata": {},
   "outputs": [],
   "source": [
    "counts = houses_train['Neighborhood'].value_counts()\n",
    "\n",
    "\n",
    "houses_train = houses_train[houses_train['Neighborhood'].isin(counts[counts >3].index)]"
   ]
  },
  {
   "cell_type": "code",
   "execution_count": 287,
   "id": "58584fe9",
   "metadata": {},
   "outputs": [],
   "source": [
    "counts = houses_train['Utilities'].value_counts()\n",
    "\n",
    "\n",
    "houses_train = houses_train[houses_train['Utilities'].isin(counts[counts >3].index)]"
   ]
  },
  {
   "cell_type": "code",
   "execution_count": 288,
   "id": "b4a9d216",
   "metadata": {},
   "outputs": [],
   "source": [
    "counts = houses_train['GarageCond'].value_counts()\n",
    "\n",
    "\n",
    "houses_train = houses_train[houses_train['GarageCond'].isin(counts[counts >3].index)]"
   ]
  },
  {
   "cell_type": "code",
   "execution_count": 289,
   "id": "e2e94212",
   "metadata": {},
   "outputs": [
    {
     "data": {
      "text/plain": [
       "(1407, 77)"
      ]
     },
     "execution_count": 289,
     "metadata": {},
     "output_type": "execute_result"
    }
   ],
   "source": [
    "houses_train.shape"
   ]
  },
  {
   "cell_type": "code",
   "execution_count": 290,
   "id": "78e37920",
   "metadata": {},
   "outputs": [],
   "source": [
    "# one hot coding for categorical_features\n",
    "houses_train = pd.get_dummies(houses_train,columns=categorical_features)"
   ]
  },
  {
   "cell_type": "markdown",
   "id": "bec3e73e",
   "metadata": {},
   "source": [
    "#### 3. Feature selection\n"
   ]
  },
  {
   "cell_type": "code",
   "execution_count": 291,
   "id": "13c4fff8",
   "metadata": {},
   "outputs": [
    {
     "data": {
      "text/plain": [
       "SalePrice           1.000000\n",
       "OverallQual         0.795192\n",
       "GrLivArea           0.740853\n",
       "TotalBsmtSF         0.648242\n",
       "GarageCars          0.640914\n",
       "                      ...   \n",
       "BsmtQual_TA        -0.462358\n",
       "FireplaceQu_NA     -0.467021\n",
       "KitchenQual_TA     -0.521830\n",
       "ExterQual_TA       -0.588770\n",
       "Utilities_AllPub         NaN\n",
       "Name: SalePrice, Length: 252, dtype: float64"
      ]
     },
     "execution_count": 291,
     "metadata": {},
     "output_type": "execute_result"
    }
   ],
   "source": [
    "correlation = houses_train.corr()\n",
    "correlation['SalePrice'].sort_values(ascending=False)"
   ]
  },
  {
   "cell_type": "code",
   "execution_count": 319,
   "id": "feca850b",
   "metadata": {},
   "outputs": [
    {
     "data": {
      "text/plain": [
       "SalePrice           1.000000\n",
       "OverallQual         0.795192\n",
       "GrLivArea           0.740853\n",
       "TotalBsmtSF         0.648242\n",
       "GarageCars          0.640914\n",
       "                      ...   \n",
       "GarageFinish_Unf   -0.416146\n",
       "BsmtQual_TA        -0.462358\n",
       "FireplaceQu_NA     -0.467021\n",
       "KitchenQual_TA     -0.521830\n",
       "ExterQual_TA       -0.588770\n",
       "Name: SalePrice, Length: 76, dtype: float64"
      ]
     },
     "execution_count": 319,
     "metadata": {},
     "output_type": "execute_result"
    }
   ],
   "source": [
    "correlation = houses_train.corr()\n",
    "correlation[abs(correlation['SalePrice']) > 0.2]['SalePrice'].sort_values(ascending=False)"
   ]
  },
  {
   "cell_type": "code",
   "execution_count": 320,
   "id": "527de608",
   "metadata": {},
   "outputs": [
    {
     "data": {
      "text/plain": [
       "Index(['OverallQual', 'YearBuilt', 'YearRemodAdd', 'MasVnrArea', 'BsmtFinSF1',\n",
       "       'TotalBsmtSF', '1stFlrSF', '2ndFlrSF', 'GrLivArea', 'FullBath',\n",
       "       'TotRmsAbvGrd', 'Fireplaces', 'GarageCars', 'GarageArea', 'WoodDeckSF',\n",
       "       'OpenPorchSF', 'SalePrice', 'Neighborhood_NoRidge',\n",
       "       'Neighborhood_NridgHt', 'Exterior1st_VinylSd', 'Exterior2nd_VinylSd',\n",
       "       'MasVnrType_NA', 'MasVnrType_Stone', 'ExterQual_Ex', 'ExterQual_Gd',\n",
       "       'ExterQual_TA', 'Foundation_CBlock', 'Foundation_PConc', 'BsmtQual_Ex',\n",
       "       'BsmtQual_TA', 'BsmtExposure_Gd', 'BsmtFinType1_GLQ', 'HeatingQC_Ex',\n",
       "       'HeatingQC_TA', 'KitchenQual_Ex', 'KitchenQual_Gd', 'KitchenQual_TA',\n",
       "       'FireplaceQu_Gd', 'FireplaceQu_NA', 'GarageType_Attchd',\n",
       "       'GarageType_Detchd', 'GarageFinish_Fin', 'GarageFinish_Unf',\n",
       "       'SaleType_New', 'SaleCondition_Partial'],\n",
       "      dtype='object')"
      ]
     },
     "execution_count": 320,
     "metadata": {},
     "output_type": "execute_result"
    }
   ],
   "source": [
    "# Set the correlation threshold\n",
    "threshold = 0.3  # You can change this value based on your requirement\n",
    "\n",
    "# Filter the correlations\n",
    "# We use `abs()` for absolute value to consider both strong positive and negative correlations\n",
    "selected_features = correlation[abs(correlation['SalePrice']) > threshold]['SalePrice'].index\n",
    "selected_features"
   ]
  },
  {
   "cell_type": "code",
   "execution_count": 321,
   "id": "7b9ed199",
   "metadata": {},
   "outputs": [
    {
     "data": {
      "text/html": [
       "<div>\n",
       "<style scoped>\n",
       "    .dataframe tbody tr th:only-of-type {\n",
       "        vertical-align: middle;\n",
       "    }\n",
       "\n",
       "    .dataframe tbody tr th {\n",
       "        vertical-align: top;\n",
       "    }\n",
       "\n",
       "    .dataframe thead th {\n",
       "        text-align: right;\n",
       "    }\n",
       "</style>\n",
       "<table border=\"1\" class=\"dataframe\">\n",
       "  <thead>\n",
       "    <tr style=\"text-align: right;\">\n",
       "      <th></th>\n",
       "      <th>OverallQual</th>\n",
       "      <th>YearBuilt</th>\n",
       "      <th>YearRemodAdd</th>\n",
       "      <th>MasVnrArea</th>\n",
       "      <th>BsmtFinSF1</th>\n",
       "      <th>TotalBsmtSF</th>\n",
       "      <th>1stFlrSF</th>\n",
       "      <th>2ndFlrSF</th>\n",
       "      <th>GrLivArea</th>\n",
       "      <th>FullBath</th>\n",
       "      <th>...</th>\n",
       "      <th>KitchenQual_Gd</th>\n",
       "      <th>KitchenQual_TA</th>\n",
       "      <th>FireplaceQu_Gd</th>\n",
       "      <th>FireplaceQu_NA</th>\n",
       "      <th>GarageType_Attchd</th>\n",
       "      <th>GarageType_Detchd</th>\n",
       "      <th>GarageFinish_Fin</th>\n",
       "      <th>GarageFinish_Unf</th>\n",
       "      <th>SaleType_New</th>\n",
       "      <th>SaleCondition_Partial</th>\n",
       "    </tr>\n",
       "  </thead>\n",
       "  <tbody>\n",
       "    <tr>\n",
       "      <th>0</th>\n",
       "      <td>7</td>\n",
       "      <td>2003</td>\n",
       "      <td>2003</td>\n",
       "      <td>196.0</td>\n",
       "      <td>706</td>\n",
       "      <td>856</td>\n",
       "      <td>856</td>\n",
       "      <td>854</td>\n",
       "      <td>1710</td>\n",
       "      <td>2</td>\n",
       "      <td>...</td>\n",
       "      <td>True</td>\n",
       "      <td>False</td>\n",
       "      <td>False</td>\n",
       "      <td>True</td>\n",
       "      <td>True</td>\n",
       "      <td>False</td>\n",
       "      <td>False</td>\n",
       "      <td>False</td>\n",
       "      <td>False</td>\n",
       "      <td>False</td>\n",
       "    </tr>\n",
       "    <tr>\n",
       "      <th>1</th>\n",
       "      <td>6</td>\n",
       "      <td>1976</td>\n",
       "      <td>1976</td>\n",
       "      <td>0.0</td>\n",
       "      <td>978</td>\n",
       "      <td>1262</td>\n",
       "      <td>1262</td>\n",
       "      <td>0</td>\n",
       "      <td>1262</td>\n",
       "      <td>2</td>\n",
       "      <td>...</td>\n",
       "      <td>False</td>\n",
       "      <td>True</td>\n",
       "      <td>False</td>\n",
       "      <td>False</td>\n",
       "      <td>True</td>\n",
       "      <td>False</td>\n",
       "      <td>False</td>\n",
       "      <td>False</td>\n",
       "      <td>False</td>\n",
       "      <td>False</td>\n",
       "    </tr>\n",
       "    <tr>\n",
       "      <th>2</th>\n",
       "      <td>7</td>\n",
       "      <td>2001</td>\n",
       "      <td>2002</td>\n",
       "      <td>162.0</td>\n",
       "      <td>486</td>\n",
       "      <td>920</td>\n",
       "      <td>920</td>\n",
       "      <td>866</td>\n",
       "      <td>1786</td>\n",
       "      <td>2</td>\n",
       "      <td>...</td>\n",
       "      <td>True</td>\n",
       "      <td>False</td>\n",
       "      <td>False</td>\n",
       "      <td>False</td>\n",
       "      <td>True</td>\n",
       "      <td>False</td>\n",
       "      <td>False</td>\n",
       "      <td>False</td>\n",
       "      <td>False</td>\n",
       "      <td>False</td>\n",
       "    </tr>\n",
       "    <tr>\n",
       "      <th>3</th>\n",
       "      <td>7</td>\n",
       "      <td>1915</td>\n",
       "      <td>1970</td>\n",
       "      <td>0.0</td>\n",
       "      <td>216</td>\n",
       "      <td>756</td>\n",
       "      <td>961</td>\n",
       "      <td>756</td>\n",
       "      <td>1717</td>\n",
       "      <td>1</td>\n",
       "      <td>...</td>\n",
       "      <td>True</td>\n",
       "      <td>False</td>\n",
       "      <td>True</td>\n",
       "      <td>False</td>\n",
       "      <td>False</td>\n",
       "      <td>True</td>\n",
       "      <td>False</td>\n",
       "      <td>True</td>\n",
       "      <td>False</td>\n",
       "      <td>False</td>\n",
       "    </tr>\n",
       "    <tr>\n",
       "      <th>4</th>\n",
       "      <td>8</td>\n",
       "      <td>2000</td>\n",
       "      <td>2000</td>\n",
       "      <td>350.0</td>\n",
       "      <td>655</td>\n",
       "      <td>1145</td>\n",
       "      <td>1145</td>\n",
       "      <td>1053</td>\n",
       "      <td>2198</td>\n",
       "      <td>2</td>\n",
       "      <td>...</td>\n",
       "      <td>True</td>\n",
       "      <td>False</td>\n",
       "      <td>False</td>\n",
       "      <td>False</td>\n",
       "      <td>True</td>\n",
       "      <td>False</td>\n",
       "      <td>False</td>\n",
       "      <td>False</td>\n",
       "      <td>False</td>\n",
       "      <td>False</td>\n",
       "    </tr>\n",
       "  </tbody>\n",
       "</table>\n",
       "<p>5 rows × 45 columns</p>\n",
       "</div>"
      ],
      "text/plain": [
       "   OverallQual  YearBuilt  YearRemodAdd  MasVnrArea  BsmtFinSF1  TotalBsmtSF  \\\n",
       "0            7       2003          2003       196.0         706          856   \n",
       "1            6       1976          1976         0.0         978         1262   \n",
       "2            7       2001          2002       162.0         486          920   \n",
       "3            7       1915          1970         0.0         216          756   \n",
       "4            8       2000          2000       350.0         655         1145   \n",
       "\n",
       "   1stFlrSF  2ndFlrSF  GrLivArea  FullBath  ...  KitchenQual_Gd  \\\n",
       "0       856       854       1710         2  ...            True   \n",
       "1      1262         0       1262         2  ...           False   \n",
       "2       920       866       1786         2  ...            True   \n",
       "3       961       756       1717         1  ...            True   \n",
       "4      1145      1053       2198         2  ...            True   \n",
       "\n",
       "   KitchenQual_TA  FireplaceQu_Gd  FireplaceQu_NA  GarageType_Attchd  \\\n",
       "0           False           False            True               True   \n",
       "1            True           False           False               True   \n",
       "2           False           False           False               True   \n",
       "3           False            True           False              False   \n",
       "4           False           False           False               True   \n",
       "\n",
       "   GarageType_Detchd  GarageFinish_Fin  GarageFinish_Unf  SaleType_New  \\\n",
       "0              False             False             False         False   \n",
       "1              False             False             False         False   \n",
       "2              False             False             False         False   \n",
       "3               True             False              True         False   \n",
       "4              False             False             False         False   \n",
       "\n",
       "   SaleCondition_Partial  \n",
       "0                  False  \n",
       "1                  False  \n",
       "2                  False  \n",
       "3                  False  \n",
       "4                  False  \n",
       "\n",
       "[5 rows x 45 columns]"
      ]
     },
     "execution_count": 321,
     "metadata": {},
     "output_type": "execute_result"
    }
   ],
   "source": [
    "df_houses_train = houses_train[selected_features]\n",
    "df_houses_train.head()"
   ]
  },
  {
   "cell_type": "code",
   "execution_count": 322,
   "id": "935f2f4e",
   "metadata": {},
   "outputs": [
    {
     "data": {
      "text/plain": [
       "(1407, 45)"
      ]
     },
     "execution_count": 322,
     "metadata": {},
     "output_type": "execute_result"
    }
   ],
   "source": [
    "df_houses_train.shape"
   ]
  },
  {
   "cell_type": "markdown",
   "id": "71d601f8",
   "metadata": {},
   "source": [
    "## Prepare train and test data\n"
   ]
  },
  {
   "cell_type": "code",
   "execution_count": 323,
   "id": "1f09e381",
   "metadata": {},
   "outputs": [],
   "source": [
    "# Prepare data\n",
    "X = df_houses_train.drop([\"SalePrice\"], axis=1)\n",
    "y = df_houses_train[\"SalePrice\"]\n",
    "\n",
    "# Split data into training and testing sets\n",
    "X_train, X_test, y_train, y_test = train_test_split(X, y,\n",
    "                                                    test_size=0.3,\n",
    "                                                    shuffle=True,\n",
    "                                                    random_state=99)\n",
    "\n",
    "# sacle the data\n",
    "scaler = StandardScaler()\n",
    "scaler.fit(X_train)\n",
    "X_train_scaled = scaler.transform(X_train)\n",
    "X_test_scaled = scaler.transform(X_test)"
   ]
  },
  {
   "cell_type": "code",
   "execution_count": 324,
   "id": "782cd92b",
   "metadata": {},
   "outputs": [
    {
     "data": {
      "text/plain": [
       "(1407, 44)"
      ]
     },
     "execution_count": 324,
     "metadata": {},
     "output_type": "execute_result"
    }
   ],
   "source": [
    "X.shape"
   ]
  },
  {
   "cell_type": "code",
   "execution_count": 325,
   "id": "d25baf99",
   "metadata": {},
   "outputs": [
    {
     "data": {
      "text/plain": [
       "(1407,)"
      ]
     },
     "execution_count": 325,
     "metadata": {},
     "output_type": "execute_result"
    }
   ],
   "source": [
    "y.shape"
   ]
  },
  {
   "cell_type": "markdown",
   "metadata": {},
   "source": [
    "## Model LR\n",
    "\n",
    "\n"
   ]
  },
  {
   "cell_type": "markdown",
   "id": "d659d41b",
   "metadata": {},
   "source": [
    "### Build the model"
   ]
  },
  {
   "cell_type": "code",
   "execution_count": 326,
   "id": "15a25072",
   "metadata": {},
   "outputs": [],
   "source": [
    "# build the model\n",
    "model = LinearRegression()\n"
   ]
  },
  {
   "cell_type": "code",
   "execution_count": 327,
   "id": "71e89b43",
   "metadata": {},
   "outputs": [
    {
     "data": {
      "text/html": [
       "<style>#sk-container-id-6 {color: black;background-color: white;}#sk-container-id-6 pre{padding: 0;}#sk-container-id-6 div.sk-toggleable {background-color: white;}#sk-container-id-6 label.sk-toggleable__label {cursor: pointer;display: block;width: 100%;margin-bottom: 0;padding: 0.3em;box-sizing: border-box;text-align: center;}#sk-container-id-6 label.sk-toggleable__label-arrow:before {content: \"▸\";float: left;margin-right: 0.25em;color: #696969;}#sk-container-id-6 label.sk-toggleable__label-arrow:hover:before {color: black;}#sk-container-id-6 div.sk-estimator:hover label.sk-toggleable__label-arrow:before {color: black;}#sk-container-id-6 div.sk-toggleable__content {max-height: 0;max-width: 0;overflow: hidden;text-align: left;background-color: #f0f8ff;}#sk-container-id-6 div.sk-toggleable__content pre {margin: 0.2em;color: black;border-radius: 0.25em;background-color: #f0f8ff;}#sk-container-id-6 input.sk-toggleable__control:checked~div.sk-toggleable__content {max-height: 200px;max-width: 100%;overflow: auto;}#sk-container-id-6 input.sk-toggleable__control:checked~label.sk-toggleable__label-arrow:before {content: \"▾\";}#sk-container-id-6 div.sk-estimator input.sk-toggleable__control:checked~label.sk-toggleable__label {background-color: #d4ebff;}#sk-container-id-6 div.sk-label input.sk-toggleable__control:checked~label.sk-toggleable__label {background-color: #d4ebff;}#sk-container-id-6 input.sk-hidden--visually {border: 0;clip: rect(1px 1px 1px 1px);clip: rect(1px, 1px, 1px, 1px);height: 1px;margin: -1px;overflow: hidden;padding: 0;position: absolute;width: 1px;}#sk-container-id-6 div.sk-estimator {font-family: monospace;background-color: #f0f8ff;border: 1px dotted black;border-radius: 0.25em;box-sizing: border-box;margin-bottom: 0.5em;}#sk-container-id-6 div.sk-estimator:hover {background-color: #d4ebff;}#sk-container-id-6 div.sk-parallel-item::after {content: \"\";width: 100%;border-bottom: 1px solid gray;flex-grow: 1;}#sk-container-id-6 div.sk-label:hover label.sk-toggleable__label {background-color: #d4ebff;}#sk-container-id-6 div.sk-serial::before {content: \"\";position: absolute;border-left: 1px solid gray;box-sizing: border-box;top: 0;bottom: 0;left: 50%;z-index: 0;}#sk-container-id-6 div.sk-serial {display: flex;flex-direction: column;align-items: center;background-color: white;padding-right: 0.2em;padding-left: 0.2em;position: relative;}#sk-container-id-6 div.sk-item {position: relative;z-index: 1;}#sk-container-id-6 div.sk-parallel {display: flex;align-items: stretch;justify-content: center;background-color: white;position: relative;}#sk-container-id-6 div.sk-item::before, #sk-container-id-6 div.sk-parallel-item::before {content: \"\";position: absolute;border-left: 1px solid gray;box-sizing: border-box;top: 0;bottom: 0;left: 50%;z-index: -1;}#sk-container-id-6 div.sk-parallel-item {display: flex;flex-direction: column;z-index: 1;position: relative;background-color: white;}#sk-container-id-6 div.sk-parallel-item:first-child::after {align-self: flex-end;width: 50%;}#sk-container-id-6 div.sk-parallel-item:last-child::after {align-self: flex-start;width: 50%;}#sk-container-id-6 div.sk-parallel-item:only-child::after {width: 0;}#sk-container-id-6 div.sk-dashed-wrapped {border: 1px dashed gray;margin: 0 0.4em 0.5em 0.4em;box-sizing: border-box;padding-bottom: 0.4em;background-color: white;}#sk-container-id-6 div.sk-label label {font-family: monospace;font-weight: bold;display: inline-block;line-height: 1.2em;}#sk-container-id-6 div.sk-label-container {text-align: center;}#sk-container-id-6 div.sk-container {/* jupyter's `normalize.less` sets `[hidden] { display: none; }` but bootstrap.min.css set `[hidden] { display: none !important; }` so we also need the `!important` here to be able to override the default hidden behavior on the sphinx rendered scikit-learn.org. See: https://github.com/scikit-learn/scikit-learn/issues/21755 */display: inline-block !important;position: relative;}#sk-container-id-6 div.sk-text-repr-fallback {display: none;}</style><div id=\"sk-container-id-6\" class=\"sk-top-container\"><div class=\"sk-text-repr-fallback\"><pre>LinearRegression()</pre><b>In a Jupyter environment, please rerun this cell to show the HTML representation or trust the notebook. <br />On GitHub, the HTML representation is unable to render, please try loading this page with nbviewer.org.</b></div><div class=\"sk-container\" hidden><div class=\"sk-item\"><div class=\"sk-estimator sk-toggleable\"><input class=\"sk-toggleable__control sk-hidden--visually\" id=\"sk-estimator-id-6\" type=\"checkbox\" checked><label for=\"sk-estimator-id-6\" class=\"sk-toggleable__label sk-toggleable__label-arrow\">LinearRegression</label><div class=\"sk-toggleable__content\"><pre>LinearRegression()</pre></div></div></div></div></div>"
      ],
      "text/plain": [
       "LinearRegression()"
      ]
     },
     "execution_count": 327,
     "metadata": {},
     "output_type": "execute_result"
    }
   ],
   "source": [
    "# Train the Model\n",
    "# Fit the model on the training data\n",
    "model.fit(X_train_scaled, y_train)"
   ]
  },
  {
   "cell_type": "code",
   "execution_count": 328,
   "id": "792f3171",
   "metadata": {},
   "outputs": [
    {
     "data": {
      "text/plain": [
       "array([284754.97444174, 183946.39842086, 177668.87739681, 131874.88207297,\n",
       "       139997.51738714, 155867.46330834, 240748.5678354 , 116623.11280781,\n",
       "       121795.68911019, 168622.87355753, 190176.85071929, 201010.64946642,\n",
       "       171312.17682621, 208569.02251973, 286568.79281595, 174724.46379931,\n",
       "       125624.92398164, 173735.40417731, 200394.6487661 , 166507.37474341,\n",
       "       152397.52442755, 170867.64197954, 154183.39518472, 112223.23578907,\n",
       "       344317.69742321, 217539.26532992, 189583.90765406, 178124.60755233,\n",
       "       187324.65027935, 182413.67044514, 201314.85441858, 164718.28650425,\n",
       "        64801.85341751, 241861.14501298, 161796.00608489, 151151.93990071,\n",
       "       152166.04525464, 153658.33103969, 122559.68829931, 129471.38209073,\n",
       "       251903.72277652, 263498.41367069, 151264.71473893, 257770.51781989,\n",
       "       146383.13022107, 149384.31813008, 366596.95982844, 252585.67772722,\n",
       "       197754.30323827,  95350.51165087, 224556.25386689, 119115.95702291,\n",
       "       284537.73097005, 165369.74856566, 383272.79026258, 122297.77487617,\n",
       "       166945.58738441, 100025.72866552, 223295.97466079,  91054.77760685,\n",
       "        79977.60466948, 238188.64448428, 378635.63864156, 118891.36612614,\n",
       "       189683.73220069, 183506.20387293, 224929.90356873, 138821.07241529,\n",
       "       138337.91634966, 257101.41830821, 269202.29588284, 348896.24459957,\n",
       "       114380.01458655, 157044.59483122, 122022.88410457, 204956.04387246,\n",
       "       125980.51971918,  92423.60318471, 133907.51528465, 133785.85836192,\n",
       "       206391.83948342, 126727.60472182, 187475.49489016, 351153.67217867,\n",
       "       221632.11898206, 168611.29733679, 135209.45478445, 197632.46971193,\n",
       "       142387.82553755, 205679.4846867 , 185524.09221489, 109426.56231753,\n",
       "       215349.94878101, 103410.90902721, 119279.21617341, 130503.26980781,\n",
       "        80827.62411977, 181265.67018276, 113861.10285723, 106044.0504693 ,\n",
       "        86100.54277273, 288756.0862878 , 112743.13025195, 211189.42334891,\n",
       "        87144.67254293, 160554.02297233,  92422.78664096, 205608.22263374,\n",
       "       328284.50190195, 317998.00328526, 181717.72325916, 207729.91747574,\n",
       "       162738.49403225, 203468.39662149, 114680.21070048, 175780.65311094,\n",
       "       155663.9463603 , 180055.77058227, 182465.0053602 , 109540.34148484,\n",
       "       257828.56980605, 152950.24030345, 198945.01867705, 172778.42810477,\n",
       "       137816.21004515,  68207.31891058, 217825.59049011, 317273.57458842,\n",
       "       137873.12728508, 113891.58783542, 134864.45973035, 118370.85544047,\n",
       "       155316.84231673, 132815.45745802, 226884.40806839, 231325.09572007,\n",
       "       205379.3661536 , 220737.37179139,  97896.55990562,  75450.94799646,\n",
       "        90472.94760963, 151930.98549582, 179084.82715956, 211987.06579565,\n",
       "       148514.06516713, 201560.61582457, 348608.82477721, 101742.8486046 ,\n",
       "       236274.10942636, 180954.43424474, 138884.44292827, 218078.81075519,\n",
       "        66053.17801526, 119813.04388189, 199289.63862639, 121291.30924742,\n",
       "       112819.36949967, 280659.15342656, 239811.14656175, 202736.03193831,\n",
       "       269609.93764531, 149170.51776008, 261088.06404331, 186102.68245786,\n",
       "       220109.55811818, 134561.29022486, 149030.20786352, 184628.63577478,\n",
       "       131709.63025917, 159431.4053718 , 183270.63626473,  77525.51273881,\n",
       "       155831.72027342, 127989.99139022, 137896.84822762, 183265.95305454,\n",
       "       141733.42381491, 232591.99194332,  97436.74292684, 107873.3656571 ,\n",
       "       153982.17092509, 158210.86808664, 388507.7251443 , 152149.32782823,\n",
       "       144417.85723449, 229839.13916581, 154831.52085221, 174851.19966504,\n",
       "        99597.15557114, 147777.51311834, 224173.53445918, 173221.89835793,\n",
       "       242937.99915499, 161772.31120117, 319462.65586532, 261062.20337891,\n",
       "       200423.88239   , 159111.55679892, 182527.22390857, 335332.91700016,\n",
       "       220064.95223964, 137709.76825712, 172046.21893471, 123035.83469812,\n",
       "        96947.92346653, 225392.01787219, 173417.89852884, 203709.25475066,\n",
       "       238234.35048028, 103950.22327096, 163773.64922897, 129586.59246377,\n",
       "       135514.16892168, 146836.3838268 , 108952.54279424, 149893.38111534,\n",
       "       145727.16127051, 139955.05461865, 208708.72809332, 190677.28709328,\n",
       "       130729.03461078, 127159.00745372,  52351.94022961, 147415.57375191,\n",
       "       339222.8731763 ,  89134.83237697, 116000.46996905, 225739.73020277,\n",
       "       169144.97358412, 142444.54374981, 255487.71298346, 294288.50741954,\n",
       "        81855.14217994, 123877.08151468, 210004.44714693,  85610.85640816,\n",
       "       247166.21748281,  55401.82385494, 116382.11186029, 194705.62597855,\n",
       "       282751.7087351 , 124676.80316247, 105952.39530836, 299954.63192565,\n",
       "       141968.62014914, 108918.62744907,  77377.19156591, 131085.86937708,\n",
       "       209464.83686134, 231355.3714615 , 163441.35155249, 273982.45944   ,\n",
       "        98554.70772045, 158143.95034325, 234817.84232699, 126373.25230225,\n",
       "       174875.42917688, 103760.08922693, 170690.51976866, 125750.73511368,\n",
       "       201000.83953213, 190716.07131121, 110517.29916468, 214634.5975163 ,\n",
       "       106531.95875181, 104891.53332402, 166448.18000275, 127054.87819128,\n",
       "       108514.19125849, 238613.79819491, 115119.98226163, 280805.62093081,\n",
       "       329964.20277034, 132625.32442484, 185895.06121664, 103767.23303333,\n",
       "       173611.67263123, 136262.41352701, 131862.7928499 , 154158.31314121,\n",
       "       113462.7662979 , 215729.22259441, 145463.19979026, 102668.97547468,\n",
       "       157251.32751049, 362442.15878722, 227142.03258452, 114372.56665915,\n",
       "       173764.88625632, 213764.89743183, 206025.51820222, 145770.09742383,\n",
       "       123520.62497383, 182982.21270893, 120976.50549057, 442158.76419645,\n",
       "       242896.25328172, 216968.01157537, 116108.29612936, 145565.0753723 ,\n",
       "       103086.64150955, 167920.47044912, 160527.44523391,  97031.70825223,\n",
       "       201237.79317782, 132667.82813551, 128385.48021745, 245006.08712256,\n",
       "       332846.89591396, 264490.72743828, 129599.72831715, 211477.11721824,\n",
       "       251530.00830786, 316262.41915738, 128789.04017304, 147680.9234424 ,\n",
       "       263913.69675946, 180843.09691663, 138018.75924875, 173432.48911252,\n",
       "       100534.61676872, 108848.54308369, 158896.31287514, 239671.22840828,\n",
       "       209784.13625255, 132592.16144632, 107060.70071518, 161354.64762276,\n",
       "       102881.82246696, 260395.94114276, 192420.97227665, 365150.64883186,\n",
       "       209237.22614195, 140340.94761641, 242968.91595156, 174888.79909245,\n",
       "       205919.22467513, 172783.82138044, 133666.51265005, 118266.98346068,\n",
       "       219132.16249323, 147858.75601649, 188628.65462016, 201324.71068316,\n",
       "       157189.43919561,  68746.90787083, 194040.98425324, 205000.88453393,\n",
       "       179185.81303843, 157152.37953118, 190088.8535399 , 192004.58518676,\n",
       "       180169.83663774, 239675.00037367, 134178.00647761, 106447.10445088,\n",
       "       186403.25337046, 141233.85917071, 193853.05024786, 201116.02959291,\n",
       "       125673.37802051, 308336.86531386, 231118.3119695 , 119893.82175454,\n",
       "       197621.82568336, 117903.66713717, 299899.27712119, 258763.48697169,\n",
       "       120845.7071819 , 131795.24220531, 281046.98360673, 173009.65684874,\n",
       "       152560.52560099,  65650.59534469, 140665.32076397, 123024.28460661,\n",
       "       177594.46820968, 202420.74293457, 255373.32444873,  67061.53133884,\n",
       "       119587.09656759, 185965.70783569, 192614.73992885, 241544.93046446,\n",
       "       132854.88699231,  99904.43266414, 149580.49240031, 121289.94040903,\n",
       "       310880.09594715, 378531.70816863, 198010.23847848, 200403.82959306,\n",
       "       128380.07314989,  90320.1107995 , 191507.77619932, 153883.87419375,\n",
       "       100260.54115516, 335215.82200197, 198967.16128819, 535007.78613385,\n",
       "       175283.09719813, 142317.95167935, 233054.56425491, 354792.38073057,\n",
       "       149993.51772675, 113902.09382335,  78512.74567779, 183450.10782169,\n",
       "       217814.19481973, 112899.22469315, 183527.85731913, 112435.65242271,\n",
       "       134682.63152705, 188470.77433118, 111847.54806668, 115977.89274309,\n",
       "       251827.84120017, 182579.33314295, 230988.52650897, 131427.73377122,\n",
       "       131484.75596743,  87844.70340219, 224580.18046939])"
      ]
     },
     "execution_count": 328,
     "metadata": {},
     "output_type": "execute_result"
    }
   ],
   "source": [
    "# Test the Model\n",
    "# Predict and evaluate the model\n",
    "y_pred = model.predict(X_test_scaled)      # Linear regression model\n",
    "y_pred"
   ]
  },
  {
   "cell_type": "code",
   "execution_count": 329,
   "id": "85c76c9d",
   "metadata": {},
   "outputs": [],
   "source": [
    "# Interpretation of the Model\n",
    "coeff_df = pd.DataFrame(model.coef_,X.columns,columns=['Coefficient'])   # Linear model cofficients\n"
   ]
  },
  {
   "cell_type": "code",
   "execution_count": 330,
   "id": "bd0227a3",
   "metadata": {},
   "outputs": [
    {
     "data": {
      "text/html": [
       "<div>\n",
       "<style scoped>\n",
       "    .dataframe tbody tr th:only-of-type {\n",
       "        vertical-align: middle;\n",
       "    }\n",
       "\n",
       "    .dataframe tbody tr th {\n",
       "        vertical-align: top;\n",
       "    }\n",
       "\n",
       "    .dataframe thead th {\n",
       "        text-align: right;\n",
       "    }\n",
       "</style>\n",
       "<table border=\"1\" class=\"dataframe\">\n",
       "  <thead>\n",
       "    <tr style=\"text-align: right;\">\n",
       "      <th></th>\n",
       "      <th>Coefficient</th>\n",
       "    </tr>\n",
       "  </thead>\n",
       "  <tbody>\n",
       "    <tr>\n",
       "      <th>OverallQual</th>\n",
       "      <td>13777.082309</td>\n",
       "    </tr>\n",
       "    <tr>\n",
       "      <th>YearBuilt</th>\n",
       "      <td>5509.641758</td>\n",
       "    </tr>\n",
       "    <tr>\n",
       "      <th>YearRemodAdd</th>\n",
       "      <td>1807.285527</td>\n",
       "    </tr>\n",
       "    <tr>\n",
       "      <th>MasVnrArea</th>\n",
       "      <td>6253.544675</td>\n",
       "    </tr>\n",
       "    <tr>\n",
       "      <th>BsmtFinSF1</th>\n",
       "      <td>8172.207414</td>\n",
       "    </tr>\n",
       "    <tr>\n",
       "      <th>TotalBsmtSF</th>\n",
       "      <td>5826.586410</td>\n",
       "    </tr>\n",
       "    <tr>\n",
       "      <th>1stFlrSF</th>\n",
       "      <td>12493.100060</td>\n",
       "    </tr>\n",
       "    <tr>\n",
       "      <th>2ndFlrSF</th>\n",
       "      <td>13440.706280</td>\n",
       "    </tr>\n",
       "    <tr>\n",
       "      <th>GrLivArea</th>\n",
       "      <td>14111.511935</td>\n",
       "    </tr>\n",
       "    <tr>\n",
       "      <th>FullBath</th>\n",
       "      <td>-1608.464749</td>\n",
       "    </tr>\n",
       "    <tr>\n",
       "      <th>TotRmsAbvGrd</th>\n",
       "      <td>-1383.008513</td>\n",
       "    </tr>\n",
       "    <tr>\n",
       "      <th>Fireplaces</th>\n",
       "      <td>3998.697770</td>\n",
       "    </tr>\n",
       "    <tr>\n",
       "      <th>GarageCars</th>\n",
       "      <td>2327.559253</td>\n",
       "    </tr>\n",
       "    <tr>\n",
       "      <th>GarageArea</th>\n",
       "      <td>4400.951389</td>\n",
       "    </tr>\n",
       "    <tr>\n",
       "      <th>WoodDeckSF</th>\n",
       "      <td>2707.951720</td>\n",
       "    </tr>\n",
       "    <tr>\n",
       "      <th>OpenPorchSF</th>\n",
       "      <td>1413.285758</td>\n",
       "    </tr>\n",
       "    <tr>\n",
       "      <th>Neighborhood_NoRidge</th>\n",
       "      <td>5147.771466</td>\n",
       "    </tr>\n",
       "    <tr>\n",
       "      <th>Neighborhood_NridgHt</th>\n",
       "      <td>1693.886515</td>\n",
       "    </tr>\n",
       "    <tr>\n",
       "      <th>Exterior1st_VinylSd</th>\n",
       "      <td>-4743.522147</td>\n",
       "    </tr>\n",
       "    <tr>\n",
       "      <th>Exterior2nd_VinylSd</th>\n",
       "      <td>4791.567995</td>\n",
       "    </tr>\n",
       "    <tr>\n",
       "      <th>MasVnrType_NA</th>\n",
       "      <td>5716.340305</td>\n",
       "    </tr>\n",
       "    <tr>\n",
       "      <th>MasVnrType_Stone</th>\n",
       "      <td>2059.392008</td>\n",
       "    </tr>\n",
       "    <tr>\n",
       "      <th>ExterQual_Ex</th>\n",
       "      <td>9784.979043</td>\n",
       "    </tr>\n",
       "    <tr>\n",
       "      <th>ExterQual_Gd</th>\n",
       "      <td>5754.322667</td>\n",
       "    </tr>\n",
       "    <tr>\n",
       "      <th>ExterQual_TA</th>\n",
       "      <td>3351.398893</td>\n",
       "    </tr>\n",
       "    <tr>\n",
       "      <th>Foundation_CBlock</th>\n",
       "      <td>2106.171295</td>\n",
       "    </tr>\n",
       "    <tr>\n",
       "      <th>Foundation_PConc</th>\n",
       "      <td>755.857637</td>\n",
       "    </tr>\n",
       "    <tr>\n",
       "      <th>BsmtQual_Ex</th>\n",
       "      <td>5004.030906</td>\n",
       "    </tr>\n",
       "    <tr>\n",
       "      <th>BsmtQual_TA</th>\n",
       "      <td>-824.442717</td>\n",
       "    </tr>\n",
       "    <tr>\n",
       "      <th>BsmtExposure_Gd</th>\n",
       "      <td>6697.096473</td>\n",
       "    </tr>\n",
       "    <tr>\n",
       "      <th>BsmtFinType1_GLQ</th>\n",
       "      <td>-77.440270</td>\n",
       "    </tr>\n",
       "    <tr>\n",
       "      <th>HeatingQC_Ex</th>\n",
       "      <td>713.839107</td>\n",
       "    </tr>\n",
       "    <tr>\n",
       "      <th>HeatingQC_TA</th>\n",
       "      <td>-2056.590477</td>\n",
       "    </tr>\n",
       "    <tr>\n",
       "      <th>KitchenQual_Ex</th>\n",
       "      <td>6062.551993</td>\n",
       "    </tr>\n",
       "    <tr>\n",
       "      <th>KitchenQual_Gd</th>\n",
       "      <td>98.827162</td>\n",
       "    </tr>\n",
       "    <tr>\n",
       "      <th>KitchenQual_TA</th>\n",
       "      <td>-2860.310262</td>\n",
       "    </tr>\n",
       "    <tr>\n",
       "      <th>FireplaceQu_Gd</th>\n",
       "      <td>1541.797453</td>\n",
       "    </tr>\n",
       "    <tr>\n",
       "      <th>FireplaceQu_NA</th>\n",
       "      <td>1791.163932</td>\n",
       "    </tr>\n",
       "    <tr>\n",
       "      <th>GarageType_Attchd</th>\n",
       "      <td>-279.916691</td>\n",
       "    </tr>\n",
       "    <tr>\n",
       "      <th>GarageType_Detchd</th>\n",
       "      <td>-616.343288</td>\n",
       "    </tr>\n",
       "    <tr>\n",
       "      <th>GarageFinish_Fin</th>\n",
       "      <td>9.317483</td>\n",
       "    </tr>\n",
       "    <tr>\n",
       "      <th>GarageFinish_Unf</th>\n",
       "      <td>-234.390264</td>\n",
       "    </tr>\n",
       "    <tr>\n",
       "      <th>SaleType_New</th>\n",
       "      <td>10253.892761</td>\n",
       "    </tr>\n",
       "    <tr>\n",
       "      <th>SaleCondition_Partial</th>\n",
       "      <td>-5228.871104</td>\n",
       "    </tr>\n",
       "  </tbody>\n",
       "</table>\n",
       "</div>"
      ],
      "text/plain": [
       "                        Coefficient\n",
       "OverallQual            13777.082309\n",
       "YearBuilt               5509.641758\n",
       "YearRemodAdd            1807.285527\n",
       "MasVnrArea              6253.544675\n",
       "BsmtFinSF1              8172.207414\n",
       "TotalBsmtSF             5826.586410\n",
       "1stFlrSF               12493.100060\n",
       "2ndFlrSF               13440.706280\n",
       "GrLivArea              14111.511935\n",
       "FullBath               -1608.464749\n",
       "TotRmsAbvGrd           -1383.008513\n",
       "Fireplaces              3998.697770\n",
       "GarageCars              2327.559253\n",
       "GarageArea              4400.951389\n",
       "WoodDeckSF              2707.951720\n",
       "OpenPorchSF             1413.285758\n",
       "Neighborhood_NoRidge    5147.771466\n",
       "Neighborhood_NridgHt    1693.886515\n",
       "Exterior1st_VinylSd    -4743.522147\n",
       "Exterior2nd_VinylSd     4791.567995\n",
       "MasVnrType_NA           5716.340305\n",
       "MasVnrType_Stone        2059.392008\n",
       "ExterQual_Ex            9784.979043\n",
       "ExterQual_Gd            5754.322667\n",
       "ExterQual_TA            3351.398893\n",
       "Foundation_CBlock       2106.171295\n",
       "Foundation_PConc         755.857637\n",
       "BsmtQual_Ex             5004.030906\n",
       "BsmtQual_TA             -824.442717\n",
       "BsmtExposure_Gd         6697.096473\n",
       "BsmtFinType1_GLQ         -77.440270\n",
       "HeatingQC_Ex             713.839107\n",
       "HeatingQC_TA           -2056.590477\n",
       "KitchenQual_Ex          6062.551993\n",
       "KitchenQual_Gd            98.827162\n",
       "KitchenQual_TA         -2860.310262\n",
       "FireplaceQu_Gd          1541.797453\n",
       "FireplaceQu_NA          1791.163932\n",
       "GarageType_Attchd       -279.916691\n",
       "GarageType_Detchd       -616.343288\n",
       "GarageFinish_Fin           9.317483\n",
       "GarageFinish_Unf        -234.390264\n",
       "SaleType_New           10253.892761\n",
       "SaleCondition_Partial  -5228.871104"
      ]
     },
     "execution_count": 330,
     "metadata": {},
     "output_type": "execute_result"
    }
   ],
   "source": [
    "coeff_df"
   ]
  },
  {
   "cell_type": "code",
   "execution_count": 331,
   "id": "08a35773",
   "metadata": {},
   "outputs": [
    {
     "name": "stdout",
     "output_type": "stream",
     "text": [
      " Linear regression intercept: 182994.737804878\n"
     ]
    }
   ],
   "source": [
    "print(f\" Linear regression intercept: {model.intercept_}\") \n"
   ]
  },
  {
   "cell_type": "markdown",
   "id": "58561b7c",
   "metadata": {},
   "source": [
    "### Evaluating the Model\n"
   ]
  },
  {
   "cell_type": "markdown",
   "id": "f97ab28f",
   "metadata": {},
   "source": [
    "##### Mean Square Error"
   ]
  },
  {
   "cell_type": "code",
   "execution_count": 332,
   "id": "98c1e469",
   "metadata": {},
   "outputs": [
    {
     "data": {
      "text/plain": [
       "[182994.73780487804,\n",
       " 182994.73780487804,\n",
       " 182994.73780487804,\n",
       " 182994.73780487804,\n",
       " 182994.73780487804,\n",
       " 182994.73780487804,\n",
       " 182994.73780487804,\n",
       " 182994.73780487804,\n",
       " 182994.73780487804,\n",
       " 182994.73780487804,\n",
       " 182994.73780487804,\n",
       " 182994.73780487804,\n",
       " 182994.73780487804,\n",
       " 182994.73780487804,\n",
       " 182994.73780487804,\n",
       " 182994.73780487804,\n",
       " 182994.73780487804,\n",
       " 182994.73780487804,\n",
       " 182994.73780487804,\n",
       " 182994.73780487804,\n",
       " 182994.73780487804,\n",
       " 182994.73780487804,\n",
       " 182994.73780487804,\n",
       " 182994.73780487804,\n",
       " 182994.73780487804,\n",
       " 182994.73780487804,\n",
       " 182994.73780487804,\n",
       " 182994.73780487804,\n",
       " 182994.73780487804,\n",
       " 182994.73780487804,\n",
       " 182994.73780487804,\n",
       " 182994.73780487804,\n",
       " 182994.73780487804,\n",
       " 182994.73780487804,\n",
       " 182994.73780487804,\n",
       " 182994.73780487804,\n",
       " 182994.73780487804,\n",
       " 182994.73780487804,\n",
       " 182994.73780487804,\n",
       " 182994.73780487804,\n",
       " 182994.73780487804,\n",
       " 182994.73780487804,\n",
       " 182994.73780487804,\n",
       " 182994.73780487804,\n",
       " 182994.73780487804,\n",
       " 182994.73780487804,\n",
       " 182994.73780487804,\n",
       " 182994.73780487804,\n",
       " 182994.73780487804,\n",
       " 182994.73780487804,\n",
       " 182994.73780487804,\n",
       " 182994.73780487804,\n",
       " 182994.73780487804,\n",
       " 182994.73780487804,\n",
       " 182994.73780487804,\n",
       " 182994.73780487804,\n",
       " 182994.73780487804,\n",
       " 182994.73780487804,\n",
       " 182994.73780487804,\n",
       " 182994.73780487804,\n",
       " 182994.73780487804,\n",
       " 182994.73780487804,\n",
       " 182994.73780487804,\n",
       " 182994.73780487804,\n",
       " 182994.73780487804,\n",
       " 182994.73780487804,\n",
       " 182994.73780487804,\n",
       " 182994.73780487804,\n",
       " 182994.73780487804,\n",
       " 182994.73780487804,\n",
       " 182994.73780487804,\n",
       " 182994.73780487804,\n",
       " 182994.73780487804,\n",
       " 182994.73780487804,\n",
       " 182994.73780487804,\n",
       " 182994.73780487804,\n",
       " 182994.73780487804,\n",
       " 182994.73780487804,\n",
       " 182994.73780487804,\n",
       " 182994.73780487804,\n",
       " 182994.73780487804,\n",
       " 182994.73780487804,\n",
       " 182994.73780487804,\n",
       " 182994.73780487804,\n",
       " 182994.73780487804,\n",
       " 182994.73780487804,\n",
       " 182994.73780487804,\n",
       " 182994.73780487804,\n",
       " 182994.73780487804,\n",
       " 182994.73780487804,\n",
       " 182994.73780487804,\n",
       " 182994.73780487804,\n",
       " 182994.73780487804,\n",
       " 182994.73780487804,\n",
       " 182994.73780487804,\n",
       " 182994.73780487804,\n",
       " 182994.73780487804,\n",
       " 182994.73780487804,\n",
       " 182994.73780487804,\n",
       " 182994.73780487804,\n",
       " 182994.73780487804,\n",
       " 182994.73780487804,\n",
       " 182994.73780487804,\n",
       " 182994.73780487804,\n",
       " 182994.73780487804,\n",
       " 182994.73780487804,\n",
       " 182994.73780487804,\n",
       " 182994.73780487804,\n",
       " 182994.73780487804,\n",
       " 182994.73780487804,\n",
       " 182994.73780487804,\n",
       " 182994.73780487804,\n",
       " 182994.73780487804,\n",
       " 182994.73780487804,\n",
       " 182994.73780487804,\n",
       " 182994.73780487804,\n",
       " 182994.73780487804,\n",
       " 182994.73780487804,\n",
       " 182994.73780487804,\n",
       " 182994.73780487804,\n",
       " 182994.73780487804,\n",
       " 182994.73780487804,\n",
       " 182994.73780487804,\n",
       " 182994.73780487804,\n",
       " 182994.73780487804,\n",
       " 182994.73780487804,\n",
       " 182994.73780487804,\n",
       " 182994.73780487804,\n",
       " 182994.73780487804,\n",
       " 182994.73780487804,\n",
       " 182994.73780487804,\n",
       " 182994.73780487804,\n",
       " 182994.73780487804,\n",
       " 182994.73780487804,\n",
       " 182994.73780487804,\n",
       " 182994.73780487804,\n",
       " 182994.73780487804,\n",
       " 182994.73780487804,\n",
       " 182994.73780487804,\n",
       " 182994.73780487804,\n",
       " 182994.73780487804,\n",
       " 182994.73780487804,\n",
       " 182994.73780487804,\n",
       " 182994.73780487804,\n",
       " 182994.73780487804,\n",
       " 182994.73780487804,\n",
       " 182994.73780487804,\n",
       " 182994.73780487804,\n",
       " 182994.73780487804,\n",
       " 182994.73780487804,\n",
       " 182994.73780487804,\n",
       " 182994.73780487804,\n",
       " 182994.73780487804,\n",
       " 182994.73780487804,\n",
       " 182994.73780487804,\n",
       " 182994.73780487804,\n",
       " 182994.73780487804,\n",
       " 182994.73780487804,\n",
       " 182994.73780487804,\n",
       " 182994.73780487804,\n",
       " 182994.73780487804,\n",
       " 182994.73780487804,\n",
       " 182994.73780487804,\n",
       " 182994.73780487804,\n",
       " 182994.73780487804,\n",
       " 182994.73780487804,\n",
       " 182994.73780487804,\n",
       " 182994.73780487804,\n",
       " 182994.73780487804,\n",
       " 182994.73780487804,\n",
       " 182994.73780487804,\n",
       " 182994.73780487804,\n",
       " 182994.73780487804,\n",
       " 182994.73780487804,\n",
       " 182994.73780487804,\n",
       " 182994.73780487804,\n",
       " 182994.73780487804,\n",
       " 182994.73780487804,\n",
       " 182994.73780487804,\n",
       " 182994.73780487804,\n",
       " 182994.73780487804,\n",
       " 182994.73780487804,\n",
       " 182994.73780487804,\n",
       " 182994.73780487804,\n",
       " 182994.73780487804,\n",
       " 182994.73780487804,\n",
       " 182994.73780487804,\n",
       " 182994.73780487804,\n",
       " 182994.73780487804,\n",
       " 182994.73780487804,\n",
       " 182994.73780487804,\n",
       " 182994.73780487804,\n",
       " 182994.73780487804,\n",
       " 182994.73780487804,\n",
       " 182994.73780487804,\n",
       " 182994.73780487804,\n",
       " 182994.73780487804,\n",
       " 182994.73780487804,\n",
       " 182994.73780487804,\n",
       " 182994.73780487804,\n",
       " 182994.73780487804,\n",
       " 182994.73780487804,\n",
       " 182994.73780487804,\n",
       " 182994.73780487804,\n",
       " 182994.73780487804,\n",
       " 182994.73780487804,\n",
       " 182994.73780487804,\n",
       " 182994.73780487804,\n",
       " 182994.73780487804,\n",
       " 182994.73780487804,\n",
       " 182994.73780487804,\n",
       " 182994.73780487804,\n",
       " 182994.73780487804,\n",
       " 182994.73780487804,\n",
       " 182994.73780487804,\n",
       " 182994.73780487804,\n",
       " 182994.73780487804,\n",
       " 182994.73780487804,\n",
       " 182994.73780487804,\n",
       " 182994.73780487804,\n",
       " 182994.73780487804,\n",
       " 182994.73780487804,\n",
       " 182994.73780487804,\n",
       " 182994.73780487804,\n",
       " 182994.73780487804,\n",
       " 182994.73780487804,\n",
       " 182994.73780487804,\n",
       " 182994.73780487804,\n",
       " 182994.73780487804,\n",
       " 182994.73780487804,\n",
       " 182994.73780487804,\n",
       " 182994.73780487804,\n",
       " 182994.73780487804,\n",
       " 182994.73780487804,\n",
       " 182994.73780487804,\n",
       " 182994.73780487804,\n",
       " 182994.73780487804,\n",
       " 182994.73780487804,\n",
       " 182994.73780487804,\n",
       " 182994.73780487804,\n",
       " 182994.73780487804,\n",
       " 182994.73780487804,\n",
       " 182994.73780487804,\n",
       " 182994.73780487804,\n",
       " 182994.73780487804,\n",
       " 182994.73780487804,\n",
       " 182994.73780487804,\n",
       " 182994.73780487804,\n",
       " 182994.73780487804,\n",
       " 182994.73780487804,\n",
       " 182994.73780487804,\n",
       " 182994.73780487804,\n",
       " 182994.73780487804,\n",
       " 182994.73780487804,\n",
       " 182994.73780487804,\n",
       " 182994.73780487804,\n",
       " 182994.73780487804,\n",
       " 182994.73780487804,\n",
       " 182994.73780487804,\n",
       " 182994.73780487804,\n",
       " 182994.73780487804,\n",
       " 182994.73780487804,\n",
       " 182994.73780487804,\n",
       " 182994.73780487804,\n",
       " 182994.73780487804,\n",
       " 182994.73780487804,\n",
       " 182994.73780487804,\n",
       " 182994.73780487804,\n",
       " 182994.73780487804,\n",
       " 182994.73780487804,\n",
       " 182994.73780487804,\n",
       " 182994.73780487804,\n",
       " 182994.73780487804,\n",
       " 182994.73780487804,\n",
       " 182994.73780487804,\n",
       " 182994.73780487804,\n",
       " 182994.73780487804,\n",
       " 182994.73780487804,\n",
       " 182994.73780487804,\n",
       " 182994.73780487804,\n",
       " 182994.73780487804,\n",
       " 182994.73780487804,\n",
       " 182994.73780487804,\n",
       " 182994.73780487804,\n",
       " 182994.73780487804,\n",
       " 182994.73780487804,\n",
       " 182994.73780487804,\n",
       " 182994.73780487804,\n",
       " 182994.73780487804,\n",
       " 182994.73780487804,\n",
       " 182994.73780487804,\n",
       " 182994.73780487804,\n",
       " 182994.73780487804,\n",
       " 182994.73780487804,\n",
       " 182994.73780487804,\n",
       " 182994.73780487804,\n",
       " 182994.73780487804,\n",
       " 182994.73780487804,\n",
       " 182994.73780487804,\n",
       " 182994.73780487804,\n",
       " 182994.73780487804,\n",
       " 182994.73780487804,\n",
       " 182994.73780487804,\n",
       " 182994.73780487804,\n",
       " 182994.73780487804,\n",
       " 182994.73780487804,\n",
       " 182994.73780487804,\n",
       " 182994.73780487804,\n",
       " 182994.73780487804,\n",
       " 182994.73780487804,\n",
       " 182994.73780487804,\n",
       " 182994.73780487804,\n",
       " 182994.73780487804,\n",
       " 182994.73780487804,\n",
       " 182994.73780487804,\n",
       " 182994.73780487804,\n",
       " 182994.73780487804,\n",
       " 182994.73780487804,\n",
       " 182994.73780487804,\n",
       " 182994.73780487804,\n",
       " 182994.73780487804,\n",
       " 182994.73780487804,\n",
       " 182994.73780487804,\n",
       " 182994.73780487804,\n",
       " 182994.73780487804,\n",
       " 182994.73780487804,\n",
       " 182994.73780487804,\n",
       " 182994.73780487804,\n",
       " 182994.73780487804,\n",
       " 182994.73780487804,\n",
       " 182994.73780487804,\n",
       " 182994.73780487804,\n",
       " 182994.73780487804,\n",
       " 182994.73780487804,\n",
       " 182994.73780487804,\n",
       " 182994.73780487804,\n",
       " 182994.73780487804,\n",
       " 182994.73780487804,\n",
       " 182994.73780487804,\n",
       " 182994.73780487804,\n",
       " 182994.73780487804,\n",
       " 182994.73780487804,\n",
       " 182994.73780487804,\n",
       " 182994.73780487804,\n",
       " 182994.73780487804,\n",
       " 182994.73780487804,\n",
       " 182994.73780487804,\n",
       " 182994.73780487804,\n",
       " 182994.73780487804,\n",
       " 182994.73780487804,\n",
       " 182994.73780487804,\n",
       " 182994.73780487804,\n",
       " 182994.73780487804,\n",
       " 182994.73780487804,\n",
       " 182994.73780487804,\n",
       " 182994.73780487804,\n",
       " 182994.73780487804,\n",
       " 182994.73780487804,\n",
       " 182994.73780487804,\n",
       " 182994.73780487804,\n",
       " 182994.73780487804,\n",
       " 182994.73780487804,\n",
       " 182994.73780487804,\n",
       " 182994.73780487804,\n",
       " 182994.73780487804,\n",
       " 182994.73780487804,\n",
       " 182994.73780487804,\n",
       " 182994.73780487804,\n",
       " 182994.73780487804,\n",
       " 182994.73780487804,\n",
       " 182994.73780487804,\n",
       " 182994.73780487804,\n",
       " 182994.73780487804,\n",
       " 182994.73780487804,\n",
       " 182994.73780487804,\n",
       " 182994.73780487804,\n",
       " 182994.73780487804,\n",
       " 182994.73780487804,\n",
       " 182994.73780487804,\n",
       " 182994.73780487804,\n",
       " 182994.73780487804,\n",
       " 182994.73780487804,\n",
       " 182994.73780487804,\n",
       " 182994.73780487804,\n",
       " 182994.73780487804,\n",
       " 182994.73780487804,\n",
       " 182994.73780487804,\n",
       " 182994.73780487804,\n",
       " 182994.73780487804,\n",
       " 182994.73780487804,\n",
       " 182994.73780487804,\n",
       " 182994.73780487804,\n",
       " 182994.73780487804,\n",
       " 182994.73780487804,\n",
       " 182994.73780487804,\n",
       " 182994.73780487804,\n",
       " 182994.73780487804,\n",
       " 182994.73780487804,\n",
       " 182994.73780487804,\n",
       " 182994.73780487804,\n",
       " 182994.73780487804,\n",
       " 182994.73780487804,\n",
       " 182994.73780487804,\n",
       " 182994.73780487804,\n",
       " 182994.73780487804,\n",
       " 182994.73780487804,\n",
       " 182994.73780487804,\n",
       " 182994.73780487804,\n",
       " 182994.73780487804,\n",
       " 182994.73780487804,\n",
       " 182994.73780487804,\n",
       " 182994.73780487804,\n",
       " 182994.73780487804,\n",
       " 182994.73780487804,\n",
       " 182994.73780487804,\n",
       " 182994.73780487804,\n",
       " 182994.73780487804,\n",
       " 182994.73780487804,\n",
       " 182994.73780487804,\n",
       " 182994.73780487804,\n",
       " 182994.73780487804,\n",
       " 182994.73780487804,\n",
       " 182994.73780487804]"
      ]
     },
     "execution_count": 332,
     "metadata": {},
     "output_type": "execute_result"
    }
   ],
   "source": [
    "# Mean Square Error\n",
    "y_base = [y_train.mean()] * len(y_test)\n",
    "y_base\n"
   ]
  },
  {
   "cell_type": "code",
   "execution_count": 333,
   "id": "51cc4ce6",
   "metadata": {},
   "outputs": [
    {
     "name": "stdout",
     "output_type": "stream",
     "text": [
      "Mean Squared Error of base model: 5.740431e+09\n"
     ]
    }
   ],
   "source": [
    "# our benchmark model\n",
    "mse_base = mean_squared_error(y_test, y_base )\n",
    "print(f'Mean Squared Error of base model: {mse_base:2e}')"
   ]
  },
  {
   "cell_type": "code",
   "execution_count": 334,
   "id": "9a13a448",
   "metadata": {},
   "outputs": [
    {
     "name": "stdout",
     "output_type": "stream",
     "text": [
      "Mean Squared Error for training: 6.719323e+08\n",
      "Mean Squared Error for testing: 7.395158e+08\n"
     ]
    }
   ],
   "source": [
    "# MSE for Linear model\n",
    "mse_train = mean_squared_error(y_train, model.predict(X_train_scaled))\n",
    "mse_test = mean_squared_error(y_test, y_pred)\n",
    "print(f'Mean Squared Error for training: {mse_train:2e}')\n",
    "print(f'Mean Squared Error for testing: {mse_test:2e}')"
   ]
  },
  {
   "cell_type": "markdown",
   "id": "85521196",
   "metadata": {},
   "source": [
    "\n",
    "##### Mean Absolute Error\n"
   ]
  },
  {
   "cell_type": "code",
   "execution_count": 335,
   "id": "fef27631",
   "metadata": {},
   "outputs": [
    {
     "name": "stdout",
     "output_type": "stream",
     "text": [
      "Mean Absolute  Error of base model: 5.626187e+04\n"
     ]
    }
   ],
   "source": [
    "# our benchmark model\n",
    "mae_base = mean_absolute_error(y_test, y_base )\n",
    "print(f'Mean Absolute  Error of base model: {mae_base:2e}')"
   ]
  },
  {
   "cell_type": "code",
   "execution_count": 336,
   "id": "e5ae7aa9",
   "metadata": {},
   "outputs": [
    {
     "name": "stdout",
     "output_type": "stream",
     "text": [
      "Mean Absolute Error for training: 1.796823e+04\n",
      "Mean Absolute Error for testing: 1.828659e+04\n"
     ]
    }
   ],
   "source": [
    "# Linear model\n",
    "mae_train = mean_absolute_error(y_train, model.predict(X_train_scaled))\n",
    "mae_test = mean_absolute_error(y_test, y_pred)\n",
    "print(f'Mean Absolute Error for training: {mae_train:2e}')\n",
    "print(f'Mean Absolute Error for testing: {mae_test:2e}')"
   ]
  },
  {
   "cell_type": "markdown",
   "id": "54dd3e1d",
   "metadata": {},
   "source": [
    "##### Root Mean Squared Error\n"
   ]
  },
  {
   "cell_type": "code",
   "execution_count": 337,
   "id": "fa7ff143",
   "metadata": {},
   "outputs": [
    {
     "name": "stdout",
     "output_type": "stream",
     "text": [
      "Root Mean Squared  Error of base model: 7.576563e+04\n"
     ]
    }
   ],
   "source": [
    "# our benchmark model\n",
    "print(f'Root Mean Squared  Error of base model: {np.sqrt(mse_base):2e}')"
   ]
  },
  {
   "cell_type": "code",
   "execution_count": 338,
   "id": "0955687b",
   "metadata": {},
   "outputs": [
    {
     "name": "stdout",
     "output_type": "stream",
     "text": [
      "Root Mean Squared Error for training: 2.592166e+04\n",
      "Root Mean Squared Error for testing: 2.719404e+04\n"
     ]
    }
   ],
   "source": [
    "# RMSE for Linear model\n",
    "\n",
    "print(f'Root Mean Squared Error for training: {np.sqrt(mse_train):2e}')\n",
    "print(f'Root Mean Squared Error for testing: {np.sqrt(mse_test):2e}')"
   ]
  },
  {
   "cell_type": "markdown",
   "id": "8b2f95e7",
   "metadata": {},
   "source": [
    "##### R Square\n"
   ]
  },
  {
   "cell_type": "code",
   "execution_count": 339,
   "id": "01465653",
   "metadata": {},
   "outputs": [
    {
     "name": "stdout",
     "output_type": "stream",
     "text": [
      "R Square for training: 0.8974866246909983\n",
      "R Square for testing: 0.8708212857960472\n"
     ]
    }
   ],
   "source": [
    "# Linear model r2 score\n",
    "r2_score_train = r2_score(y_train, model.predict(X_train_scaled))\n",
    "r2_score_test = r2_score(y_test, y_pred)\n",
    "print(f'R Square for training: {r2_score_train}')\n",
    "print(f'R Square for testing: {r2_score_test}')"
   ]
  },
  {
   "cell_type": "markdown",
   "id": "1489720a",
   "metadata": {},
   "source": [
    "#### Predictions vs. Real Values\n"
   ]
  },
  {
   "cell_type": "code",
   "execution_count": 313,
   "id": "e78c2bb3",
   "metadata": {},
   "outputs": [
    {
     "data": {
      "text/plain": [
       "array([284754.97444174, 183946.39842086, 177668.87739681, 131874.88207297,\n",
       "       139997.51738714, 155867.46330834, 240748.5678354 , 116623.11280781,\n",
       "       121795.68911019, 168622.87355753, 190176.85071929, 201010.64946642,\n",
       "       171312.17682621, 208569.02251973, 286568.79281595, 174724.46379931,\n",
       "       125624.92398164, 173735.40417731, 200394.6487661 , 166507.37474341,\n",
       "       152397.52442755, 170867.64197954, 154183.39518472, 112223.23578907,\n",
       "       344317.69742321, 217539.26532992, 189583.90765406, 178124.60755233,\n",
       "       187324.65027935, 182413.67044514, 201314.85441858, 164718.28650425,\n",
       "        64801.85341751, 241861.14501298, 161796.00608489, 151151.93990071,\n",
       "       152166.04525464, 153658.33103969, 122559.68829931, 129471.38209073,\n",
       "       251903.72277652, 263498.41367069, 151264.71473893, 257770.51781989,\n",
       "       146383.13022107, 149384.31813008, 366596.95982844, 252585.67772722,\n",
       "       197754.30323827,  95350.51165087, 224556.25386689, 119115.95702291,\n",
       "       284537.73097005, 165369.74856566, 383272.79026258, 122297.77487617,\n",
       "       166945.58738441, 100025.72866552, 223295.97466079,  91054.77760685,\n",
       "        79977.60466948, 238188.64448428, 378635.63864156, 118891.36612614,\n",
       "       189683.73220069, 183506.20387293, 224929.90356873, 138821.07241529,\n",
       "       138337.91634966, 257101.41830821, 269202.29588284, 348896.24459957,\n",
       "       114380.01458655, 157044.59483122, 122022.88410457, 204956.04387246,\n",
       "       125980.51971918,  92423.60318471, 133907.51528465, 133785.85836192,\n",
       "       206391.83948342, 126727.60472182, 187475.49489016, 351153.67217867,\n",
       "       221632.11898206, 168611.29733679, 135209.45478445, 197632.46971193,\n",
       "       142387.82553755, 205679.4846867 , 185524.09221489, 109426.56231753,\n",
       "       215349.94878101, 103410.90902721, 119279.21617341, 130503.26980781,\n",
       "        80827.62411977, 181265.67018276, 113861.10285723, 106044.0504693 ,\n",
       "        86100.54277273, 288756.0862878 , 112743.13025195, 211189.42334891,\n",
       "        87144.67254293, 160554.02297233,  92422.78664096, 205608.22263374,\n",
       "       328284.50190195, 317998.00328526, 181717.72325916, 207729.91747574,\n",
       "       162738.49403225, 203468.39662149, 114680.21070048, 175780.65311094,\n",
       "       155663.9463603 , 180055.77058227, 182465.0053602 , 109540.34148484,\n",
       "       257828.56980605, 152950.24030345, 198945.01867705, 172778.42810477,\n",
       "       137816.21004515,  68207.31891058, 217825.59049011, 317273.57458842,\n",
       "       137873.12728508, 113891.58783542, 134864.45973035, 118370.85544047,\n",
       "       155316.84231673, 132815.45745802, 226884.40806839, 231325.09572007,\n",
       "       205379.3661536 , 220737.37179139,  97896.55990562,  75450.94799646,\n",
       "        90472.94760963, 151930.98549582, 179084.82715956, 211987.06579565,\n",
       "       148514.06516713, 201560.61582457, 348608.82477721, 101742.8486046 ,\n",
       "       236274.10942636, 180954.43424474, 138884.44292827, 218078.81075519,\n",
       "        66053.17801526, 119813.04388189, 199289.63862639, 121291.30924742,\n",
       "       112819.36949967, 280659.15342656, 239811.14656175, 202736.03193831,\n",
       "       269609.93764531, 149170.51776008, 261088.06404331, 186102.68245786,\n",
       "       220109.55811818, 134561.29022486, 149030.20786352, 184628.63577478,\n",
       "       131709.63025917, 159431.4053718 , 183270.63626473,  77525.51273881,\n",
       "       155831.72027342, 127989.99139022, 137896.84822762, 183265.95305454,\n",
       "       141733.42381491, 232591.99194332,  97436.74292684, 107873.3656571 ,\n",
       "       153982.17092509, 158210.86808664, 388507.7251443 , 152149.32782823,\n",
       "       144417.85723449, 229839.13916581, 154831.52085221, 174851.19966504,\n",
       "        99597.15557114, 147777.51311834, 224173.53445918, 173221.89835793,\n",
       "       242937.99915499, 161772.31120117, 319462.65586532, 261062.20337891,\n",
       "       200423.88239   , 159111.55679892, 182527.22390857, 335332.91700016,\n",
       "       220064.95223964, 137709.76825712, 172046.21893471, 123035.83469812,\n",
       "        96947.92346653, 225392.01787219, 173417.89852884, 203709.25475066,\n",
       "       238234.35048028, 103950.22327096, 163773.64922897, 129586.59246377,\n",
       "       135514.16892168, 146836.3838268 , 108952.54279424, 149893.38111534,\n",
       "       145727.16127051, 139955.05461865, 208708.72809332, 190677.28709328,\n",
       "       130729.03461078, 127159.00745372,  52351.94022961, 147415.57375191,\n",
       "       339222.8731763 ,  89134.83237697, 116000.46996905, 225739.73020277,\n",
       "       169144.97358412, 142444.54374981, 255487.71298346, 294288.50741954,\n",
       "        81855.14217994, 123877.08151468, 210004.44714693,  85610.85640816,\n",
       "       247166.21748281,  55401.82385494, 116382.11186029, 194705.62597855,\n",
       "       282751.7087351 , 124676.80316247, 105952.39530836, 299954.63192565,\n",
       "       141968.62014914, 108918.62744907,  77377.19156591, 131085.86937708,\n",
       "       209464.83686134, 231355.3714615 , 163441.35155249, 273982.45944   ,\n",
       "        98554.70772045, 158143.95034325, 234817.84232699, 126373.25230225,\n",
       "       174875.42917688, 103760.08922693, 170690.51976866, 125750.73511368,\n",
       "       201000.83953213, 190716.07131121, 110517.29916468, 214634.5975163 ,\n",
       "       106531.95875181, 104891.53332402, 166448.18000275, 127054.87819128,\n",
       "       108514.19125849, 238613.79819491, 115119.98226163, 280805.62093081,\n",
       "       329964.20277034, 132625.32442484, 185895.06121664, 103767.23303333,\n",
       "       173611.67263123, 136262.41352701, 131862.7928499 , 154158.31314121,\n",
       "       113462.7662979 , 215729.22259441, 145463.19979026, 102668.97547468,\n",
       "       157251.32751049, 362442.15878722, 227142.03258452, 114372.56665915,\n",
       "       173764.88625632, 213764.89743183, 206025.51820222, 145770.09742383,\n",
       "       123520.62497383, 182982.21270893, 120976.50549057, 442158.76419645,\n",
       "       242896.25328172, 216968.01157537, 116108.29612936, 145565.0753723 ,\n",
       "       103086.64150955, 167920.47044912, 160527.44523391,  97031.70825223,\n",
       "       201237.79317782, 132667.82813551, 128385.48021745, 245006.08712256,\n",
       "       332846.89591396, 264490.72743828, 129599.72831715, 211477.11721824,\n",
       "       251530.00830786, 316262.41915738, 128789.04017304, 147680.9234424 ,\n",
       "       263913.69675946, 180843.09691663, 138018.75924875, 173432.48911252,\n",
       "       100534.61676872, 108848.54308369, 158896.31287514, 239671.22840828,\n",
       "       209784.13625255, 132592.16144632, 107060.70071518, 161354.64762276,\n",
       "       102881.82246696, 260395.94114276, 192420.97227665, 365150.64883186,\n",
       "       209237.22614195, 140340.94761641, 242968.91595156, 174888.79909245,\n",
       "       205919.22467513, 172783.82138044, 133666.51265005, 118266.98346068,\n",
       "       219132.16249323, 147858.75601649, 188628.65462016, 201324.71068316,\n",
       "       157189.43919561,  68746.90787083, 194040.98425324, 205000.88453393,\n",
       "       179185.81303843, 157152.37953118, 190088.8535399 , 192004.58518676,\n",
       "       180169.83663774, 239675.00037367, 134178.00647761, 106447.10445088,\n",
       "       186403.25337046, 141233.85917071, 193853.05024786, 201116.02959291,\n",
       "       125673.37802051, 308336.86531386, 231118.3119695 , 119893.82175454,\n",
       "       197621.82568336, 117903.66713717, 299899.27712119, 258763.48697169,\n",
       "       120845.7071819 , 131795.24220531, 281046.98360673, 173009.65684874,\n",
       "       152560.52560099,  65650.59534469, 140665.32076397, 123024.28460661,\n",
       "       177594.46820968, 202420.74293457, 255373.32444873,  67061.53133884,\n",
       "       119587.09656759, 185965.70783569, 192614.73992885, 241544.93046446,\n",
       "       132854.88699231,  99904.43266414, 149580.49240031, 121289.94040903,\n",
       "       310880.09594715, 378531.70816863, 198010.23847848, 200403.82959306,\n",
       "       128380.07314989,  90320.1107995 , 191507.77619932, 153883.87419375,\n",
       "       100260.54115516, 335215.82200197, 198967.16128819, 535007.78613385,\n",
       "       175283.09719813, 142317.95167935, 233054.56425491, 354792.38073057,\n",
       "       149993.51772675, 113902.09382335,  78512.74567779, 183450.10782169,\n",
       "       217814.19481973, 112899.22469315, 183527.85731913, 112435.65242271,\n",
       "       134682.63152705, 188470.77433118, 111847.54806668, 115977.89274309,\n",
       "       251827.84120017, 182579.33314295, 230988.52650897, 131427.73377122,\n",
       "       131484.75596743,  87844.70340219, 224580.18046939])"
      ]
     },
     "execution_count": 313,
     "metadata": {},
     "output_type": "execute_result"
    }
   ],
   "source": [
    "predictions = model.predict(X_test_scaled)\n",
    "predictions"
   ]
  },
  {
   "cell_type": "code",
   "execution_count": 100,
   "id": "d74dedc8",
   "metadata": {},
   "outputs": [
    {
     "data": {
      "text/plain": [
       "array([192000, 125000, 128000, 141000, 224000,  84500, 119000, 128000,\n",
       "       181000, 117000,  79500, 127500, 142125, 195400, 143250, 122500,\n",
       "       230000, 180000, 108000, 145000, 137500, 159434, 301000, 325000,\n",
       "       150750, 145000, 412500, 130000, 200000, 250000, 286000, 264132,\n",
       "       171900, 215000, 394617, 134450, 129000, 192000, 197900, 235000,\n",
       "       120000, 155000, 117000, 220000, 341000, 137500, 120000, 234000,\n",
       "       142500, 113000, 302000, 219500, 258000, 125000, 119000, 112500,\n",
       "       135000, 148000, 254000, 152000, 229456, 135000, 188000, 240000,\n",
       "       190000, 402861,  79000, 133900, 415298, 130000, 268000, 145000,\n",
       "       167000, 118500, 171000, 137500, 182900, 107900, 223500, 151000,\n",
       "       135000, 179000, 176000, 266500, 139000, 160000, 213490, 318000,\n",
       "       116000, 175000, 159000, 230000, 194500, 137450, 209500, 141000,\n",
       "       124000, 249700, 275000, 138500, 146000, 235000, 244000, 124500,\n",
       "       127000, 392500, 214000,  91000, 128500, 125000,  66500, 111000,\n",
       "       270000, 139000, 287090, 326000, 169000, 124500, 144500, 361919,\n",
       "       108000, 194000, 132500, 239000, 123000, 108480, 190000, 220000,\n",
       "       134500, 138887, 250000, 244600, 165600, 140000, 339750, 207000,\n",
       "       202665, 212000, 134000, 127500, 372500, 225000, 109500, 185000,\n",
       "       170000, 131000, 115000, 179900, 106250, 184000, 145250, 200000,\n",
       "        84500, 126175,  90000, 151500, 155000, 164500, 185000, 155000,\n",
       "       185500, 205000, 154000, 226700, 159500,  79000, 151000, 185000,\n",
       "       133000, 144000, 285000, 133000, 317000, 222500, 185000, 158000,\n",
       "       207500, 126000, 132000, 100000, 187000, 325300, 126500, 176485,\n",
       "       248000, 225000, 132250, 237500, 255000, 259500, 152000, 174900,\n",
       "       198900, 277000,  88000, 104900, 178000, 395000, 186500, 127000,\n",
       "       260000, 127500, 224900, 221000, 222000, 213000, 135000, 135000,\n",
       "       155000, 143000, 135000, 230000, 197000, 105000, 179900, 187500,\n",
       "       103200, 153000, 235000, 143000, 173000, 215000, 233170, 194000,\n",
       "       316600, 195000, 170000, 134000, 172500, 130500, 232600, 271900,\n",
       "       143000, 156000, 160000, 188000, 176500, 149900, 112000, 190000,\n",
       "       240000, 113000, 268000,  64500, 188500, 143500,  68400, 105000,\n",
       "       124000, 159000, 235000, 262500, 224500, 170000, 230000, 112000,\n",
       "       290000,  85000, 193000, 325000, 185000,  91000, 170000, 187500,\n",
       "       106000, 107000, 112000,  92900, 115000, 280000, 256300, 200500,\n",
       "       157000, 158000, 193000, 318000, 120000,  82500, 190000,  93000,\n",
       "       216837, 402000, 125500, 183000, 196000, 160000,  92000, 172500,\n",
       "       130000, 174500, 228500, 109500, 204000, 192000, 138500, 112000,\n",
       "       109500, 163000, 141000, 280000, 277500, 140000, 130000, 145000,\n",
       "       160000, 181000, 213500, 196000, 168500, 157000, 168500,  67000,\n",
       "       137900, 131400, 165000, 128500, 239500,  85000, 194500, 139000,\n",
       "       197500, 237000, 235128, 115000, 212000, 169990, 177000, 219500,\n",
       "       310000, 172400, 200000, 265000, 125000, 165400, 187500, 139400,\n",
       "        84000, 110000, 129000,  85000, 109900, 239000, 136000, 215000,\n",
       "       138000, 148000, 275000, 100000, 175000, 126000, 127000, 155000,\n",
       "       190000, 147000, 233230, 107500, 213500, 105900, 275000, 127000,\n",
       "       284000, 237000, 170000, 144000, 172500, 213000, 115000, 235000,\n",
       "       250000, 214000, 229000, 124900, 136500, 325624, 119000, 167500,\n",
       "       175900, 129900, 133000, 137000, 270000, 162900, 135000, 129000,\n",
       "       262280, 153000, 140000, 130000, 181134, 165000, 176000, 159000,\n",
       "       147000, 123500, 181900, 112500, 175000, 176000, 134800, 107000,\n",
       "       112000, 335000, 146000, 216000, 134432], dtype=int64)"
      ]
     },
     "execution_count": 100,
     "metadata": {},
     "output_type": "execute_result"
    }
   ],
   "source": [
    "Real_Values = np.array(y_test)\n",
    "Real_Values"
   ]
  },
  {
   "cell_type": "code",
   "execution_count": 101,
   "id": "6fd01601",
   "metadata": {},
   "outputs": [
    {
     "data": {
      "image/png": "[encoded data removed]",
      "text/plain": [
       "<Figure size 640x480 with 1 Axes>"
      ]
     },
     "metadata": {},
     "output_type": "display_data"
    }
   ],
   "source": [
    "plt.scatter(Real_Values, predictions)\n",
    "plt.plot([Real_Values.min(), Real_Values.max()], [Real_Values.min(), Real_Values.max()], color='red', lw=1)\n",
    "plt.xlabel('Real Values')\n",
    "plt.ylabel('Predictions')\n",
    "plt.title('Real Values vs Predictions')\n",
    "plt.show()"
   ]
  },
  {
   "cell_type": "code",
   "execution_count": 102,
   "id": "d3d0d52c",
   "metadata": {},
   "outputs": [
    {
     "name": "stderr",
     "output_type": "stream",
     "text": [
      "C:\\Users\\user\\AppData\\Local\\Temp\\ipykernel_24460\\2651291080.py:1: UserWarning: \n",
      "\n",
      "`distplot` is a deprecated function and will be removed in seaborn v0.14.0.\n",
      "\n",
      "Please adapt your code to use either `displot` (a figure-level function with\n",
      "similar flexibility) or `histplot` (an axes-level function for histograms).\n",
      "\n",
      "For a guide to updating your code to use the new functions, please see\n",
      "https://gist.github.com/mwaskom/de44147ed2974457ad6372750bbe5751\n",
      "\n",
      "  sns.distplot((y_test-predictions),bins=50); # it's good if we get normal distribution\n"
     ]
    },
    {
     "data": {
      "image/png": "[encoded data removed]",
      "text/plain": [
       "<Figure size 640x480 with 1 Axes>"
      ]
     },
     "metadata": {},
     "output_type": "display_data"
    }
   ],
   "source": [
    "sns.distplot((y_test-predictions),bins=50); # it's good if we get normal distribution\n"
   ]
  },
  {
   "cell_type": "markdown",
   "id": "156143c3",
   "metadata": {},
   "source": [
    "### Ridge & Lasso Regression"
   ]
  },
  {
   "cell_type": "code",
   "execution_count": 340,
   "id": "86a041f9",
   "metadata": {},
   "outputs": [
    {
     "name": "stdout",
     "output_type": "stream",
     "text": [
      "Ridge Regression R² Score: 0.8667\n",
      "Lasso Regression R² Score: 0.8697\n"
     ]
    }
   ],
   "source": [
    "from sklearn.linear_model import Ridge, Lasso\n",
    "\n",
    "\n",
    "\n",
    "ridge_model = Ridge(alpha=100)  # Adjust alpha for stronger/weaker regularization\n",
    "ridge_model.fit(X_train_scaled, y_train)\n",
    "y_pred_ridge = ridge_model.predict(X_test_scaled)\n",
    "\n",
    "# Lasso Regression\n",
    "lasso_model = Lasso(alpha=100)  # Adjust alpha; too high might remove all features\n",
    "lasso_model.fit(X_train_scaled, y_train)\n",
    "y_pred_lasso = lasso_model.predict(X_test_scaled)\n",
    "\n",
    "# Calculate R² Scores\n",
    "r2_ridge = r2_score(y_test, y_pred_ridge)\n",
    "r2_lasso = r2_score(y_test, y_pred_lasso)\n",
    "\n",
    "print(f\"Ridge Regression R² Score: {r2_ridge:.4f}\")\n",
    "print(f\"Lasso Regression R² Score: {r2_lasso:.4f}\")"
   ]
  },
  {
   "cell_type": "code",
   "execution_count": 315,
   "id": "9fd759df",
   "metadata": {},
   "outputs": [
    {
     "name": "stdout",
     "output_type": "stream",
     "text": [
      "Best Ridge Alpha: {'alpha': 100}\n"
     ]
    },
    {
     "name": "stderr",
     "output_type": "stream",
     "text": [
      "c:\\Users\\user\\AppData\\Local\\Programs\\Python\\Python310\\lib\\site-packages\\sklearn\\linear_model\\_coordinate_descent.py:648: ConvergenceWarning: Objective did not converge. You might want to increase the number of iterations, check the scale of the features or consider increasing regularisation. Duality gap: 2.352e+11, tolerance: 5.445e+08\n",
      "  model = cd_fast.enet_coordinate_descent(\n",
      "c:\\Users\\user\\AppData\\Local\\Programs\\Python\\Python310\\lib\\site-packages\\sklearn\\linear_model\\_coordinate_descent.py:648: ConvergenceWarning: Objective did not converge. You might want to increase the number of iterations, check the scale of the features or consider increasing regularisation. Duality gap: 7.779e+09, tolerance: 5.207e+08\n",
      "  model = cd_fast.enet_coordinate_descent(\n",
      "c:\\Users\\user\\AppData\\Local\\Programs\\Python\\Python310\\lib\\site-packages\\sklearn\\linear_model\\_coordinate_descent.py:648: ConvergenceWarning: Objective did not converge. You might want to increase the number of iterations, check the scale of the features or consider increasing regularisation. Duality gap: 2.259e+10, tolerance: 5.091e+08\n",
      "  model = cd_fast.enet_coordinate_descent(\n",
      "c:\\Users\\user\\AppData\\Local\\Programs\\Python\\Python310\\lib\\site-packages\\sklearn\\linear_model\\_coordinate_descent.py:648: ConvergenceWarning: Objective did not converge. You might want to increase the number of iterations, check the scale of the features or consider increasing regularisation. Duality gap: 2.347e+10, tolerance: 5.020e+08\n",
      "  model = cd_fast.enet_coordinate_descent(\n",
      "c:\\Users\\user\\AppData\\Local\\Programs\\Python\\Python310\\lib\\site-packages\\sklearn\\linear_model\\_coordinate_descent.py:648: ConvergenceWarning: Objective did not converge. You might want to increase the number of iterations, check the scale of the features or consider increasing regularisation. Duality gap: 1.026e+11, tolerance: 5.029e+08\n",
      "  model = cd_fast.enet_coordinate_descent(\n",
      "c:\\Users\\user\\AppData\\Local\\Programs\\Python\\Python310\\lib\\site-packages\\sklearn\\linear_model\\_coordinate_descent.py:648: ConvergenceWarning: Objective did not converge. You might want to increase the number of iterations, check the scale of the features or consider increasing regularisation. Duality gap: 6.030e+10, tolerance: 5.445e+08\n",
      "  model = cd_fast.enet_coordinate_descent(\n",
      "c:\\Users\\user\\AppData\\Local\\Programs\\Python\\Python310\\lib\\site-packages\\sklearn\\linear_model\\_coordinate_descent.py:648: ConvergenceWarning: Objective did not converge. You might want to increase the number of iterations, check the scale of the features or consider increasing regularisation. Duality gap: 1.727e+09, tolerance: 5.029e+08\n",
      "  model = cd_fast.enet_coordinate_descent(\n"
     ]
    },
    {
     "name": "stdout",
     "output_type": "stream",
     "text": [
      "Best Lasso Alpha: {'alpha': 100}\n"
     ]
    }
   ],
   "source": [
    "from sklearn.model_selection import GridSearchCV\n",
    "\n",
    "param_grid = {'alpha': [0.01, 0.1, 1, 10, 100]}\n",
    "\n",
    "# Tune Ridge\n",
    "ridge_search = GridSearchCV(Ridge(), param_grid, cv=5, scoring='r2')\n",
    "ridge_search.fit(X_train_scaled, y_train)\n",
    "print(\"Best Ridge Alpha:\", ridge_search.best_params_)\n",
    "\n",
    "# Tune Lasso\n",
    "lasso_search = GridSearchCV(Lasso(), param_grid, cv=5, scoring='r2')\n",
    "lasso_search.fit(X_train_scaled, y_train)\n",
    "print(\"Best Lasso Alpha:\", lasso_search.best_params_)"
   ]
  },
  {
   "cell_type": "markdown",
   "id": "1a5aa328",
   "metadata": {},
   "source": [
    "## XGBRegressor"
   ]
  },
  {
   "cell_type": "code",
   "execution_count": 346,
   "id": "55f311e9",
   "metadata": {},
   "outputs": [
    {
     "name": "stdout",
     "output_type": "stream",
     "text": [
      "Fitting 3 folds for each of 18 candidates, totalling 54 fits\n",
      "[CV] END ..learning_rate=0.01, max_depth=4, n_estimators=500; total time=   0.2s\n",
      "[CV] END ..learning_rate=0.01, max_depth=4, n_estimators=500; total time=   0.1s\n",
      "[CV] END ..learning_rate=0.01, max_depth=4, n_estimators=500; total time=   0.1s\n",
      "[CV] END .learning_rate=0.01, max_depth=4, n_estimators=1000; total time=   0.4s\n",
      "[CV] END .learning_rate=0.01, max_depth=4, n_estimators=1000; total time=   0.4s\n",
      "[CV] END .learning_rate=0.01, max_depth=4, n_estimators=1000; total time=   0.4s\n",
      "[CV] END ..learning_rate=0.01, max_depth=6, n_estimators=500; total time=   0.3s\n",
      "[CV] END ..learning_rate=0.01, max_depth=6, n_estimators=500; total time=   0.3s\n",
      "[CV] END ..learning_rate=0.01, max_depth=6, n_estimators=500; total time=   0.5s\n",
      "[CV] END .learning_rate=0.01, max_depth=6, n_estimators=1000; total time=   0.6s\n",
      "[CV] END .learning_rate=0.01, max_depth=6, n_estimators=1000; total time=   0.6s\n",
      "[CV] END .learning_rate=0.01, max_depth=6, n_estimators=1000; total time=   0.7s\n",
      "[CV] END ..learning_rate=0.01, max_depth=8, n_estimators=500; total time=   0.5s\n",
      "[CV] END ..learning_rate=0.01, max_depth=8, n_estimators=500; total time=   0.6s\n",
      "[CV] END ..learning_rate=0.01, max_depth=8, n_estimators=500; total time=   0.7s\n",
      "[CV] END .learning_rate=0.01, max_depth=8, n_estimators=1000; total time=   1.1s\n",
      "[CV] END .learning_rate=0.01, max_depth=8, n_estimators=1000; total time=   1.0s\n",
      "[CV] END .learning_rate=0.01, max_depth=8, n_estimators=1000; total time=   1.2s\n",
      "[CV] END ..learning_rate=0.05, max_depth=4, n_estimators=500; total time=   0.1s\n",
      "[CV] END ..learning_rate=0.05, max_depth=4, n_estimators=500; total time=   0.1s\n",
      "[CV] END ..learning_rate=0.05, max_depth=4, n_estimators=500; total time=   0.1s\n",
      "[CV] END .learning_rate=0.05, max_depth=4, n_estimators=1000; total time=   0.4s\n",
      "[CV] END .learning_rate=0.05, max_depth=4, n_estimators=1000; total time=   0.4s\n",
      "[CV] END .learning_rate=0.05, max_depth=4, n_estimators=1000; total time=   0.4s\n",
      "[CV] END ..learning_rate=0.05, max_depth=6, n_estimators=500; total time=   0.3s\n",
      "[CV] END ..learning_rate=0.05, max_depth=6, n_estimators=500; total time=   0.3s\n",
      "[CV] END ..learning_rate=0.05, max_depth=6, n_estimators=500; total time=   0.3s\n",
      "[CV] END .learning_rate=0.05, max_depth=6, n_estimators=1000; total time=   0.6s\n",
      "[CV] END .learning_rate=0.05, max_depth=6, n_estimators=1000; total time=   0.6s\n",
      "[CV] END .learning_rate=0.05, max_depth=6, n_estimators=1000; total time=   0.7s\n",
      "[CV] END ..learning_rate=0.05, max_depth=8, n_estimators=500; total time=   0.5s\n",
      "[CV] END ..learning_rate=0.05, max_depth=8, n_estimators=500; total time=   0.5s\n",
      "[CV] END ..learning_rate=0.05, max_depth=8, n_estimators=500; total time=   0.6s\n",
      "[CV] END .learning_rate=0.05, max_depth=8, n_estimators=1000; total time=   1.1s\n",
      "[CV] END .learning_rate=0.05, max_depth=8, n_estimators=1000; total time=   1.1s\n",
      "[CV] END .learning_rate=0.05, max_depth=8, n_estimators=1000; total time=   1.1s\n",
      "[CV] END ...learning_rate=0.1, max_depth=4, n_estimators=500; total time=   0.1s\n",
      "[CV] END ...learning_rate=0.1, max_depth=4, n_estimators=500; total time=   0.1s\n",
      "[CV] END ...learning_rate=0.1, max_depth=4, n_estimators=500; total time=   0.1s\n",
      "[CV] END ..learning_rate=0.1, max_depth=4, n_estimators=1000; total time=   0.4s\n",
      "[CV] END ..learning_rate=0.1, max_depth=4, n_estimators=1000; total time=   0.3s\n",
      "[CV] END ..learning_rate=0.1, max_depth=4, n_estimators=1000; total time=   0.4s\n",
      "[CV] END ...learning_rate=0.1, max_depth=6, n_estimators=500; total time=   0.3s\n",
      "[CV] END ...learning_rate=0.1, max_depth=6, n_estimators=500; total time=   0.3s\n",
      "[CV] END ...learning_rate=0.1, max_depth=6, n_estimators=500; total time=   0.3s\n",
      "[CV] END ..learning_rate=0.1, max_depth=6, n_estimators=1000; total time=   0.6s\n",
      "[CV] END ..learning_rate=0.1, max_depth=6, n_estimators=1000; total time=   0.6s\n",
      "[CV] END ..learning_rate=0.1, max_depth=6, n_estimators=1000; total time=   0.6s\n",
      "[CV] END ...learning_rate=0.1, max_depth=8, n_estimators=500; total time=   0.5s\n",
      "[CV] END ...learning_rate=0.1, max_depth=8, n_estimators=500; total time=   0.6s\n",
      "[CV] END ...learning_rate=0.1, max_depth=8, n_estimators=500; total time=   0.5s\n",
      "[CV] END ..learning_rate=0.1, max_depth=8, n_estimators=1000; total time=   0.9s\n",
      "[CV] END ..learning_rate=0.1, max_depth=8, n_estimators=1000; total time=   0.9s\n",
      "[CV] END ..learning_rate=0.1, max_depth=8, n_estimators=1000; total time=   0.9s\n",
      "Best parameters: {'learning_rate': 0.01, 'max_depth': 4, 'n_estimators': 1000}\n"
     ]
    }
   ],
   "source": [
    "from sklearn.model_selection import GridSearchCV\n",
    "from xgboost import XGBRegressor\n",
    "\n",
    "param_grid = {\n",
    "    'n_estimators': [500, 1000],\n",
    "    'learning_rate': [0.01, 0.05, 0.1],\n",
    "    'max_depth': [4, 6, 8],\n",
    "}\n",
    "grid_search = GridSearchCV(XGBRegressor(random_state=42), param_grid, cv=3, scoring='neg_mean_squared_error', verbose=2)\n",
    "grid_search.fit(X_train, y_train)\n",
    "\n",
    "print(\"Best parameters:\", grid_search.best_params_)\n",
    "best_model = grid_search.best_estimator_"
   ]
  },
  {
   "cell_type": "markdown",
   "id": "7ccb9052",
   "metadata": {},
   "source": [
    "##### R Square\n"
   ]
  },
  {
   "cell_type": "code",
   "execution_count": 347,
   "id": "9edf0ce0",
   "metadata": {},
   "outputs": [
    {
     "name": "stdout",
     "output_type": "stream",
     "text": [
      "RMSE: 26166.886884023617\n",
      "R² Score: 0.8803954810083464\n",
      "Cross-Validation R²: 0.9001\n"
     ]
    }
   ],
   "source": [
    "\n",
    "from sklearn.model_selection import cross_val_score\n",
    "\n",
    "y_pred = best_model.predict(X_test)\n",
    "rmse = np.sqrt(mean_squared_error(y_test, y_pred))\n",
    "r2 = best_model.score(X_test, y_test)\n",
    "\n",
    "print(f\"RMSE: {rmse}\")\n",
    "print(f\"R² Score: {r2}\")\n",
    "\n",
    "cv_scores = cross_val_score(best_model, X, y, cv=5, scoring='r2')\n",
    "print(f\"Cross-Validation R²: {cv_scores.mean():.4f}\")"
   ]
  },
  {
   "cell_type": "markdown",
   "id": "18483764",
   "metadata": {},
   "source": [
    "## Polynomial Regression"
   ]
  },
  {
   "cell_type": "code",
   "execution_count": null,
   "id": "1dd0a249",
   "metadata": {},
   "outputs": [
    {
     "name": "stdout",
     "output_type": "stream",
     "text": [
      "Decision Tree R² Score (Train): 0.8662\n",
      "Decision Tree R² Score (Test): 0.7630\n"
     ]
    }
   ],
   "source": [
    "from sklearn.tree import DecisionTreeRegressor\n",
    "# Initialize Decision Tree Regressor\n",
    "dt_model = DecisionTreeRegressor(max_depth=5, random_state=42)  # Adjust max_depth as needed\n",
    "\n",
    "# Train the model\n",
    "dt_model.fit(X_train_scaled, y_train)\n",
    "\n",
    "# Predict on training & test sets\n",
    "y_train_pred = dt_model.predict(X_train_scaled)\n",
    "y_test_pred = dt_model.predict(X_test_scaled)\n",
    "\n"
   ]
  },
  {
   "cell_type": "code",
   "execution_count": 247,
   "id": "602bb682",
   "metadata": {},
   "outputs": [
    {
     "name": "stdout",
     "output_type": "stream",
     "text": [
      "Best Parameters: {'max_depth': 10, 'min_samples_leaf': 4, 'min_samples_split': 10}\n"
     ]
    }
   ],
   "source": [
    "from sklearn.model_selection import GridSearchCV\n",
    "\n",
    "param_grid = {\n",
    "    'max_depth': [3, 5, 10, None],\n",
    "    'min_samples_split': [2, 5, 10],\n",
    "    'min_samples_leaf': [1, 2, 4]\n",
    "}\n",
    "\n",
    "grid_search = GridSearchCV(DecisionTreeRegressor(random_state=42), param_grid, cv=5, scoring='r2')\n",
    "grid_search.fit(X_train_scaled, y_train)\n",
    "best_model = grid_search.best_estimator_\n",
    "print(\"Best Parameters:\", grid_search.best_params_)"
   ]
  },
  {
   "cell_type": "code",
   "execution_count": 249,
   "id": "4f7e4772",
   "metadata": {},
   "outputs": [
    {
     "name": "stdout",
     "output_type": "stream",
     "text": [
      "Decision Tree R² Score (Train): 0.8662\n",
      "Decision Tree R² Score (Test): 0.7630\n"
     ]
    },
    {
     "name": "stderr",
     "output_type": "stream",
     "text": [
      "c:\\Users\\user\\AppData\\Local\\Programs\\Python\\Python310\\lib\\site-packages\\sklearn\\base.py:443: UserWarning: X has feature names, but DecisionTreeRegressor was fitted without feature names\n",
      "  warnings.warn(\n"
     ]
    },
    {
     "data": {
      "text/plain": [
       "-7.108937211255489"
      ]
     },
     "execution_count": 249,
     "metadata": {},
     "output_type": "execute_result"
    }
   ],
   "source": [
    "# Calculate R² Score\n",
    "r2_train = r2_score(y_train, y_train_pred)\n",
    "r2_test = r2_score(y_test, y_test_pred)\n",
    "r2 = best_model.score(X_test, y_test)\n",
    "\n",
    "\n",
    "print(f\"Decision Tree R² Score (Train): {r2_train:.4f}\")\n",
    "print(f\"Decision Tree R² Score (Test): {r2_test:.4f}\")\n",
    "r2"
   ]
  },
  {
   "cell_type": "markdown",
   "id": "9a73bc31",
   "metadata": {},
   "source": [
    "## KernelRidge"
   ]
  },
  {
   "cell_type": "code",
   "execution_count": 251,
   "id": "62cf1c4d",
   "metadata": {},
   "outputs": [
    {
     "name": "stdout",
     "output_type": "stream",
     "text": [
      "Kernel Ridge Regression R² Score (Train): 0.8862\n",
      "Kernel Ridge Regression R² Score (Test): 0.7210\n"
     ]
    }
   ],
   "source": [
    "from sklearn.kernel_ridge import KernelRidge\n",
    "\n",
    "\n",
    "\n",
    "krr_model = KernelRidge(alpha=1.0, kernel='rbf')  # RBF kernel for nonlinearity\n",
    "\n",
    "# Train the model\n",
    "krr_model.fit(X_train_scaled, y_train)\n",
    "\n",
    "# Predict on training & test sets\n",
    "y_train_pred = krr_model.predict(X_train_scaled)\n",
    "y_test_pred = krr_model.predict(X_test_scaled)\n",
    "\n",
    "\n",
    "param_grid = {\n",
    "    \"alpha\": [0.1, 0.5, 0.6, 1, 5, 10],\n",
    "    \"kernel\": [\"polynomial\", \"rbf\", \"sigmoid\"],\n",
    "    \"degree\": [2, 3, 4],\n",
    "    \"coef0\": [0, 1, 2.5, 5]\n",
    "}\n",
    "\n",
    "\n",
    "grid_search = GridSearchCV(krr_model, param_grid, cv=5, scoring=\"neg_mean_squared_error\", n_jobs=-1)\n",
    "grid_search.fit(X_train_scaled, y_train)\n",
    "\n",
    "KRR = grid_search.best_estimator_\n",
    "\n",
    "# Calculate R² Score\n",
    "r2_train = r2_score(y_train, y_train_pred)\n",
    "r2_test = r2_score(y_test, y_test_pred)\n",
    "\n",
    "\n",
    "print(f\"Kernel Ridge Regression R² Score (Train): {r2_train:.4f}\")\n",
    "print(f\"Kernel Ridge Regression R² Score (Test): {r2_test:.4f}\")"
   ]
  }
 ],
 "metadata": {
  "kernelspec": {
   "display_name": "Python 3",
   "language": "python",
   "name": "python3"
  },
  "language_info": {
   "codemirror_mode": {
    "name": "ipython",
    "version": 3
   },
   "file_extension": ".py",
   "mimetype": "text/x-python",
   "name": "python",
   "nbconvert_exporter": "python",
   "pygments_lexer": "ipython3",
   "version": "3.10.8"
  }
 },
 "nbformat": 4,
 "nbformat_minor": 5
}
